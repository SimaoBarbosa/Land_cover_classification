{
 "cells": [
  {
   "cell_type": "code",
   "execution_count": 6,
   "metadata": {},
   "outputs": [],
   "source": [
    "from satpy.scene import Scene\n",
    "from satpy import find_files_and_readers\n",
    "from datetime import datetime\n",
    " "
   ]
  },
  {
   "cell_type": "code",
   "execution_count": 34,
   "metadata": {},
   "outputs": [
    {
     "name": "stderr",
     "output_type": "stream",
     "text": [
      "Could not import reader config from: ['C:\\\\ProgramData\\\\Anaconda3\\\\envs\\\\geo_py37\\\\lib\\\\site-packages\\\\satpy\\\\etc\\\\readers\\\\avhrr_l1b_gaclac.yaml']\n",
      "Could not import reader config from: ['C:\\\\ProgramData\\\\Anaconda3\\\\envs\\\\geo_py37\\\\lib\\\\site-packages\\\\satpy\\\\etc\\\\readers\\\\avhrr_l1b_hrpt.yaml']\n",
      "Could not import reader config from: ['C:\\\\ProgramData\\\\Anaconda3\\\\envs\\\\geo_py37\\\\lib\\\\site-packages\\\\satpy\\\\etc\\\\readers\\\\viirs_edr_flood.yaml']\n",
      "Could not import reader config from: ['C:\\\\ProgramData\\\\Anaconda3\\\\envs\\\\geo_py37\\\\lib\\\\site-packages\\\\satpy\\\\etc\\\\readers\\\\grib.yaml']\n",
      "Could not import reader config from: ['C:\\\\ProgramData\\\\Anaconda3\\\\envs\\\\geo_py37\\\\lib\\\\site-packages\\\\satpy\\\\etc\\\\readers\\\\hsaf_grib.yaml']\n",
      "Could not import reader config from: ['C:\\\\ProgramData\\\\Anaconda3\\\\envs\\\\geo_py37\\\\lib\\\\site-packages\\\\satpy\\\\etc\\\\readers\\\\modis_l1b.yaml']\n",
      "Could not import reader config from: ['C:\\\\ProgramData\\\\Anaconda3\\\\envs\\\\geo_py37\\\\lib\\\\site-packages\\\\satpy\\\\etc\\\\readers\\\\seviri_l2_bufr.yaml']\n",
      "Could not import reader config from: ['C:\\\\ProgramData\\\\Anaconda3\\\\envs\\\\geo_py37\\\\lib\\\\site-packages\\\\satpy\\\\etc\\\\readers\\\\clavrx.yaml']\n",
      "Could not import reader config from: ['C:\\\\ProgramData\\\\Anaconda3\\\\envs\\\\geo_py37\\\\lib\\\\site-packages\\\\satpy\\\\etc\\\\readers\\\\caliop_l2_cloud.yaml']\n",
      "Could not import reader config from: ['C:\\\\ProgramData\\\\Anaconda3\\\\envs\\\\geo_py37\\\\lib\\\\site-packages\\\\satpy\\\\etc\\\\readers\\\\li_l2.yaml']\n",
      "Could not import reader config from: ['C:\\\\ProgramData\\\\Anaconda3\\\\envs\\\\geo_py37\\\\lib\\\\site-packages\\\\satpy\\\\etc\\\\readers\\\\modis_l2.yaml']\n"
     ]
    },
    {
     "data": {
      "text/plain": [
       "['viirs_compact',\n",
       " 'jami_hrit',\n",
       " 'virr_l1b',\n",
       " 'scatsat1_l2b',\n",
       " 'amsr2_l1b',\n",
       " 'avhrr_l1b_eps',\n",
       " 'mersi2_l1b',\n",
       " 'seviri_l1b_nc',\n",
       " 'viirs_edr_active_fires',\n",
       " 'iasi_l2',\n",
       " 'olci_l2',\n",
       " 'fci_l1c_fdhsi',\n",
       " 'ghrsst_l3c_sst',\n",
       " 'nwcsaf-pps_nc',\n",
       " 'acspo',\n",
       " 'ami_l1b',\n",
       " 'geocat',\n",
       " 'maia',\n",
       " 'mtsat2-imager_hrit',\n",
       " 'tropomi_l2',\n",
       " 'olci_l1b',\n",
       " 'vaisala_gld360',\n",
       " 'nucaps',\n",
       " 'seviri_l1b_hrit',\n",
       " 'nwcsaf-geo',\n",
       " 'nwcsaf-msg2013-hdf5',\n",
       " 'slstr_l1b',\n",
       " 'goes-imager_hrit',\n",
       " 'omps_edr',\n",
       " 'avhrr_l1b_aapp',\n",
       " 'goes-imager_nc',\n",
       " 'ahi_hsd',\n",
       " 'sar-c_safe',\n",
       " 'seviri_l1b_native',\n",
       " 'viirs_sdr',\n",
       " 'ahi_hrit',\n",
       " 'msi_safe',\n",
       " 'abi_l1b',\n",
       " 'agri_l1',\n",
       " 'electrol_hrit',\n",
       " 'generic_image',\n",
       " 'safe_sar_l2_ocn',\n",
       " 'abi_l2_nc',\n",
       " 'abi_l1b_scmi',\n",
       " 'viirs_l1b']"
      ]
     },
     "execution_count": 34,
     "metadata": {},
     "output_type": "execute_result"
    }
   ],
   "source": [
    "from satpy import available_readers\n",
    "available_readers()"
   ]
  },
  {
   "cell_type": "code",
   "execution_count": 95,
   "metadata": {},
   "outputs": [
    {
     "name": "stderr",
     "output_type": "stream",
     "text": [
      "No filenames found for reader: viirs_compact\n",
      "No filenames found for reader: jami_hrit\n",
      "No filenames found for reader: virr_l1b\n",
      "No filenames found for reader: scatsat1_l2b\n",
      "No filenames found for reader: amsr2_l1b\n",
      "No filenames found for reader: avhrr_l1b_eps\n",
      "No filenames found for reader: mersi2_l1b\n",
      "No filenames found for reader: seviri_l1b_nc\n",
      "No filenames found for reader: viirs_edr_active_fires\n",
      "No filenames found for reader: iasi_l2\n",
      "No filenames found for reader: olci_l2\n",
      "No filenames found for reader: fci_l1c_fdhsi\n",
      "No filenames found for reader: ghrsst_l3c_sst\n",
      "No filenames found for reader: nwcsaf-pps_nc\n",
      "No filenames found for reader: acspo\n",
      "No filenames found for reader: ami_l1b\n",
      "No filenames found for reader: geocat\n",
      "No filenames found for reader: maia\n",
      "No filenames found for reader: mtsat2-imager_hrit\n",
      "No filenames found for reader: tropomi_l2\n",
      "No filenames found for reader: olci_l1b\n",
      "No filenames found for reader: vaisala_gld360\n",
      "No filenames found for reader: nucaps\n",
      "No filenames found for reader: seviri_l1b_hrit\n",
      "No filenames found for reader: nwcsaf-geo\n",
      "No filenames found for reader: nwcsaf-msg2013-hdf5\n",
      "No filenames found for reader: slstr_l1b\n",
      "No filenames found for reader: goes-imager_hrit\n",
      "No filenames found for reader: omps_edr\n",
      "No filenames found for reader: avhrr_l1b_aapp\n",
      "No filenames found for reader: goes-imager_nc\n",
      "No filenames found for reader: ahi_hsd\n",
      "No filenames found for reader: sar-c_safe\n",
      "No filenames found for reader: seviri_l1b_native\n",
      "No filenames found for reader: viirs_sdr\n",
      "No filenames found for reader: ahi_hrit\n",
      "No filenames found for reader: msi_safe\n",
      "No filenames found for reader: abi_l1b\n",
      "No filenames found for reader: agri_l1\n",
      "No filenames found for reader: electrol_hrit\n",
      "No filenames found for reader: generic_image\n",
      "No filenames found for reader: safe_sar_l2_ocn\n",
      "No filenames found for reader: abi_l2_nc\n",
      "No filenames found for reader: abi_l1b_scmi\n",
      "No filenames found for reader: viirs_l1b\n",
      "Don't know how to open the following files: {'./Satellite_images/12_band_images/S2A_MSIL1C_20191025T113321_N0208_R080_T29SMD_20191025T133318'}\n"
     ]
    },
    {
     "ename": "ValueError",
     "evalue": "No supported files found",
     "output_type": "error",
     "traceback": [
      "\u001b[1;31m---------------------------------------------------------------------------\u001b[0m",
      "\u001b[1;31mValueError\u001b[0m                                Traceback (most recent call last)",
      "\u001b[1;32m<ipython-input-95-4f9550df6f27>\u001b[0m in \u001b[0;36m<module>\u001b[1;34m\u001b[0m\n\u001b[0;32m      3\u001b[0m \u001b[1;31m#files = find_files_and_readers(base_dir=img_dir,reader='msi_safe')\u001b[0m\u001b[1;33m\u001b[0m\u001b[1;33m\u001b[0m\u001b[1;33m\u001b[0m\u001b[0m\n\u001b[0;32m      4\u001b[0m \u001b[0mfiles\u001b[0m \u001b[1;33m=\u001b[0m \u001b[0mglob\u001b[0m\u001b[1;33m(\u001b[0m\u001b[0mimg_dir\u001b[0m\u001b[1;33m)\u001b[0m\u001b[1;33m\u001b[0m\u001b[1;33m\u001b[0m\u001b[0m\n\u001b[1;32m----> 5\u001b[1;33m \u001b[0mscn\u001b[0m \u001b[1;33m=\u001b[0m \u001b[0mScene\u001b[0m\u001b[1;33m(\u001b[0m\u001b[0mfilenames\u001b[0m\u001b[1;33m=\u001b[0m\u001b[0mfiles\u001b[0m\u001b[1;33m)\u001b[0m\u001b[1;33m\u001b[0m\u001b[1;33m\u001b[0m\u001b[0m\n\u001b[0m\u001b[0;32m      6\u001b[0m \u001b[0mscn\u001b[0m\u001b[1;33m.\u001b[0m\u001b[0mavailable_dataset_names\u001b[0m\u001b[1;33m(\u001b[0m\u001b[1;33m)\u001b[0m\u001b[1;33m\u001b[0m\u001b[1;33m\u001b[0m\u001b[0m\n\u001b[0;32m      7\u001b[0m \u001b[1;31m#scn.load(['true_color'])\u001b[0m\u001b[1;33m\u001b[0m\u001b[1;33m\u001b[0m\u001b[1;33m\u001b[0m\u001b[0m\n",
      "\u001b[1;32mC:\\ProgramData\\Anaconda3\\envs\\geo_py37\\lib\\site-packages\\satpy\\scene.py\u001b[0m in \u001b[0;36m__init__\u001b[1;34m(self, filenames, reader, filter_parameters, reader_kwargs, ppp_config_dir, base_dir, sensor, start_time, end_time, area)\u001b[0m\n\u001b[0;32m    155\u001b[0m         self.readers = self.create_reader_instances(filenames=filenames,\n\u001b[0;32m    156\u001b[0m                                                     \u001b[0mreader\u001b[0m\u001b[1;33m=\u001b[0m\u001b[0mreader\u001b[0m\u001b[1;33m,\u001b[0m\u001b[1;33m\u001b[0m\u001b[1;33m\u001b[0m\u001b[0m\n\u001b[1;32m--> 157\u001b[1;33m                                                     reader_kwargs=reader_kwargs)\n\u001b[0m\u001b[0;32m    158\u001b[0m         \u001b[0mself\u001b[0m\u001b[1;33m.\u001b[0m\u001b[0mattrs\u001b[0m\u001b[1;33m.\u001b[0m\u001b[0mupdate\u001b[0m\u001b[1;33m(\u001b[0m\u001b[0mself\u001b[0m\u001b[1;33m.\u001b[0m\u001b[0m_compute_metadata_from_readers\u001b[0m\u001b[1;33m(\u001b[0m\u001b[1;33m)\u001b[0m\u001b[1;33m)\u001b[0m\u001b[1;33m\u001b[0m\u001b[1;33m\u001b[0m\u001b[0m\n\u001b[0;32m    159\u001b[0m         \u001b[0mself\u001b[0m\u001b[1;33m.\u001b[0m\u001b[0mdatasets\u001b[0m \u001b[1;33m=\u001b[0m \u001b[0mDatasetDict\u001b[0m\u001b[1;33m(\u001b[0m\u001b[1;33m)\u001b[0m\u001b[1;33m\u001b[0m\u001b[1;33m\u001b[0m\u001b[0m\n",
      "\u001b[1;32mC:\\ProgramData\\Anaconda3\\envs\\geo_py37\\lib\\site-packages\\satpy\\scene.py\u001b[0m in \u001b[0;36mcreate_reader_instances\u001b[1;34m(self, filenames, reader, reader_kwargs)\u001b[0m\n\u001b[0;32m    200\u001b[0m                             \u001b[0mreader\u001b[0m\u001b[1;33m=\u001b[0m\u001b[0mreader\u001b[0m\u001b[1;33m,\u001b[0m\u001b[1;33m\u001b[0m\u001b[1;33m\u001b[0m\u001b[0m\n\u001b[0;32m    201\u001b[0m                             \u001b[0mreader_kwargs\u001b[0m\u001b[1;33m=\u001b[0m\u001b[0mreader_kwargs\u001b[0m\u001b[1;33m,\u001b[0m\u001b[1;33m\u001b[0m\u001b[1;33m\u001b[0m\u001b[0m\n\u001b[1;32m--> 202\u001b[1;33m                             ppp_config_dir=self.ppp_config_dir)\n\u001b[0m\u001b[0;32m    203\u001b[0m \u001b[1;33m\u001b[0m\u001b[0m\n\u001b[0;32m    204\u001b[0m     \u001b[1;33m@\u001b[0m\u001b[0mproperty\u001b[0m\u001b[1;33m\u001b[0m\u001b[1;33m\u001b[0m\u001b[0m\n",
      "\u001b[1;32mC:\\ProgramData\\Anaconda3\\envs\\geo_py37\\lib\\site-packages\\satpy\\readers\\__init__.py\u001b[0m in \u001b[0;36mload_readers\u001b[1;34m(filenames, reader, reader_kwargs, ppp_config_dir)\u001b[0m\n\u001b[0;32m    732\u001b[0m         \u001b[0mLOG\u001b[0m\u001b[1;33m.\u001b[0m\u001b[0mwarning\u001b[0m\u001b[1;33m(\u001b[0m\u001b[1;34m\"Don't know how to open the following files: {}\"\u001b[0m\u001b[1;33m.\u001b[0m\u001b[0mformat\u001b[0m\u001b[1;33m(\u001b[0m\u001b[0mstr\u001b[0m\u001b[1;33m(\u001b[0m\u001b[0mremaining_filenames\u001b[0m\u001b[1;33m)\u001b[0m\u001b[1;33m)\u001b[0m\u001b[1;33m)\u001b[0m\u001b[1;33m\u001b[0m\u001b[1;33m\u001b[0m\u001b[0m\n\u001b[0;32m    733\u001b[0m     \u001b[1;32mif\u001b[0m \u001b[1;32mnot\u001b[0m \u001b[0mreader_instances\u001b[0m\u001b[1;33m:\u001b[0m\u001b[1;33m\u001b[0m\u001b[1;33m\u001b[0m\u001b[0m\n\u001b[1;32m--> 734\u001b[1;33m         \u001b[1;32mraise\u001b[0m \u001b[0mValueError\u001b[0m\u001b[1;33m(\u001b[0m\u001b[1;34m\"No supported files found\"\u001b[0m\u001b[1;33m)\u001b[0m\u001b[1;33m\u001b[0m\u001b[1;33m\u001b[0m\u001b[0m\n\u001b[0m\u001b[0;32m    735\u001b[0m     \u001b[1;32melif\u001b[0m \u001b[1;32mnot\u001b[0m \u001b[0many\u001b[0m\u001b[1;33m(\u001b[0m\u001b[0mlist\u001b[0m\u001b[1;33m(\u001b[0m\u001b[0mr\u001b[0m\u001b[1;33m.\u001b[0m\u001b[0mavailable_dataset_ids\u001b[0m\u001b[1;33m)\u001b[0m \u001b[1;32mfor\u001b[0m \u001b[0mr\u001b[0m \u001b[1;32min\u001b[0m \u001b[0mreader_instances\u001b[0m\u001b[1;33m.\u001b[0m\u001b[0mvalues\u001b[0m\u001b[1;33m(\u001b[0m\u001b[1;33m)\u001b[0m\u001b[1;33m)\u001b[0m\u001b[1;33m:\u001b[0m\u001b[1;33m\u001b[0m\u001b[1;33m\u001b[0m\u001b[0m\n\u001b[0;32m    736\u001b[0m         raise ValueError(\"No dataset could be loaded. Either missing \"\n",
      "\u001b[1;31mValueError\u001b[0m: No supported files found"
     ]
    }
   ],
   "source": [
    "from glob import glob\n",
    "img_dir = \"./Satellite_images/12_band_images/S2A_MSIL1C_20191025T113321_N0208_R080_T29SMD_20191025T133318\"\n",
    "#files = find_files_and_readers(base_dir=img_dir,reader='msi_safe')\n",
    "files = glob(img_dir)\n",
    "scn = Scene(filenames=files)\n",
    "scn.available_dataset_names()\n",
    "#scn.load(['true_color'])\n",
    "#scn.save_dataset('true_color', filename='true_color_S2_gnc_tutorial'+'.png')\n"
   ]
  }
 ],
 "metadata": {
  "kernelspec": {
   "display_name": "geo_py37_kernel",
   "language": "python",
   "name": "geo_py37_kernel"
  },
  "language_info": {
   "codemirror_mode": {
    "name": "ipython",
    "version": 3
   },
   "file_extension": ".py",
   "mimetype": "text/x-python",
   "name": "python",
   "nbconvert_exporter": "python",
   "pygments_lexer": "ipython3",
   "version": "3.7.3"
  }
 },
 "nbformat": 4,
 "nbformat_minor": 2
}
