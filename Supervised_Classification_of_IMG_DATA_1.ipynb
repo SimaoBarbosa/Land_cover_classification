{
 "cells": [
  {
   "cell_type": "markdown",
   "metadata": {},
   "source": [
    "Code adapted from https://github.com/patrickcgray/open-geo-tutorial"
   ]
  },
  {
   "cell_type": "code",
   "execution_count": 178,
   "metadata": {},
   "outputs": [],
   "source": [
    "from IPython.display import Audio, display\n",
    "from timeit import default_timer as timer\n",
    "start = timer()\n",
    "def alert():\n",
    "  global start\n",
    "  end= timer()\n",
    "  print(\"\\n\\nDuration in minutes : \" +  str((end - start)/60) + \" minutes.\" )\n",
    "  display(Audio(url='https://sound.peal.io/ps/audios/000/000/537/original/woo_vu_luvub_dub_dub.wav', autoplay=True))"
   ]
  },
  {
   "cell_type": "markdown",
   "metadata": {},
   "source": [
    "# Preparing Dataset"
   ]
  },
  {
   "cell_type": "markdown",
   "metadata": {},
   "source": [
    "#### Cutting images for faster process"
   ]
  },
  {
   "cell_type": "code",
   "execution_count": 179,
   "metadata": {},
   "outputs": [],
   "source": [
    "# 0 to  10980 for this img_data\n",
    "#training\n",
    "xmin = 6500\n",
    "xmax = 7000\n",
    "ymin = 6600\n",
    "ymax = 7100\n",
    "#test\n",
    "xmin_test = 6000\n",
    "xmax_test = 6500\n",
    "ymin_test = 6800\n",
    "ymax_test = 7300"
   ]
  },
  {
   "cell_type": "code",
   "execution_count": 180,
   "metadata": {},
   "outputs": [],
   "source": [
    "import rasterio\n",
    "from rasterio.mask import mask\n",
    "import geopandas as gp\n",
    "import numpy as np\n",
    "import shapely\n",
    "from shapely import geometry\n",
    "from shapely.geometry import shape, Point, LineString, Polygon , mapping\n",
    "import matplotlib.pyplot as plt\n",
    "from rasterio.plot import show\n",
    "import pyproj\n",
    "from pyproj import CRS\n",
    "import fiona"
   ]
  },
  {
   "cell_type": "code",
   "execution_count": 181,
   "metadata": {},
   "outputs": [
    {
     "data": {
      "text/plain": [
       "['./data/IMG_DATA_1\\\\T29SMD_20191025T113321_B02.jp2',\n",
       " './data/IMG_DATA_1\\\\T29SMD_20191025T113321_B03.jp2',\n",
       " './data/IMG_DATA_1\\\\T29SMD_20191025T113321_B04.jp2',\n",
       " './data/IMG_DATA_1\\\\T29SMD_20191025T113321_B08.jp2']"
      ]
     },
     "execution_count": 181,
     "metadata": {},
     "output_type": "execute_result"
    }
   ],
   "source": [
    "import os # we need os to do some basic file operations\n",
    "import re\n",
    "regexp = re.compile(r'_B0[2348]')\n",
    "sentinal_20m = \"./data/IMG_DATA_1\"\n",
    "# find every file in the sentinal_fp directory\n",
    "sentinal_band_paths = [os.path.join(sentinal_20m, f) for f in os.listdir(sentinal_20m) if regexp.search(f) ]\n",
    "sentinal_band_paths.sort()\n",
    "sentinal_band_paths"
   ]
  },
  {
   "cell_type": "code",
   "execution_count": 182,
   "metadata": {},
   "outputs": [
    {
     "name": "stdout",
     "output_type": "stream",
     "text": [
      "./data/IMG_DATA_1\\T29SMD_20191025T113321_B02.jp2 ::: \n",
      "{'driver': 'JP2OpenJPEG', 'dtype': 'uint16', 'nodata': None, 'width': 10980, 'height': 10980, 'count': 1, 'crs': CRS.from_epsg(32629), 'transform': Affine(10.0, 0.0, 399960.0,\n",
      "       0.0, -10.0, 4400040.0)}\n",
      "./data/IMG_DATA_1\\T29SMD_20191025T113321_B03.jp2 ::: \n",
      "{'driver': 'JP2OpenJPEG', 'dtype': 'uint16', 'nodata': None, 'width': 10980, 'height': 10980, 'count': 1, 'crs': CRS.from_epsg(32629), 'transform': Affine(10.0, 0.0, 399960.0,\n",
      "       0.0, -10.0, 4400040.0)}\n",
      "./data/IMG_DATA_1\\T29SMD_20191025T113321_B04.jp2 ::: \n",
      "{'driver': 'JP2OpenJPEG', 'dtype': 'uint16', 'nodata': None, 'width': 10980, 'height': 10980, 'count': 1, 'crs': CRS.from_epsg(32629), 'transform': Affine(10.0, 0.0, 399960.0,\n",
      "       0.0, -10.0, 4400040.0)}\n",
      "./data/IMG_DATA_1\\T29SMD_20191025T113321_B08.jp2 ::: \n",
      "{'driver': 'JP2OpenJPEG', 'dtype': 'uint16', 'nodata': None, 'width': 10980, 'height': 10980, 'count': 1, 'crs': CRS.from_epsg(32629), 'transform': Affine(10.0, 0.0, 399960.0,\n",
      "       0.0, -10.0, 4400040.0)}\n"
     ]
    }
   ],
   "source": [
    "for i in sentinal_band_paths : \n",
    "        src = rasterio.open(i,driver='JP2OpenJPEG')\n",
    "        meta = src.meta\n",
    "        print( i + \" ::: \")\n",
    "        print(meta)\n"
   ]
  },
  {
   "cell_type": "code",
   "execution_count": 183,
   "metadata": {},
   "outputs": [],
   "source": [
    "# create a products directory within the data dir which won't be uploaded to Github\n",
    "img_dir = './data/'\n",
    "\n",
    "# check to see if the dir it exists, if not, create it\n",
    "if not os.path.exists(img_dir):\n",
    "    os.makedirs(img_dir)\n",
    "\n",
    "# filepath for image we're writing out\n",
    "img_fp = img_dir + 'sentinel_bands_img_data_1.tif'"
   ]
  },
  {
   "cell_type": "markdown",
   "metadata": {},
   "source": [
    "### Only run this the first time - its slow"
   ]
  },
  {
   "cell_type": "code",
   "execution_count": 184,
   "metadata": {},
   "outputs": [
    {
     "data": {
      "text/plain": [
       "\"\\n# Just run this the first time \\nmeta = meta\\n# Update metadata to reflect the number of layers\\nmeta.update(\\n    count = len(sentinal_band_paths)\\n)\\n# Read each layer and write it to stack\\nwith rasterio.open(img_fp, 'w', **meta) as dst:\\n    for id, layer in enumerate(sentinal_band_paths, start=1):\\n        with rasterio.open(layer) as src1:\\n            dst.write_band(id, src1.read(1))\\n\""
      ]
     },
     "execution_count": 184,
     "metadata": {},
     "output_type": "execute_result"
    }
   ],
   "source": [
    "\"\"\"\n",
    "# Just run this the first time \n",
    "meta = meta\n",
    "# Update metadata to reflect the number of layers\n",
    "meta.update(\n",
    "    count = len(sentinal_band_paths)\n",
    ")\n",
    "# Read each layer and write it to stack\n",
    "with rasterio.open(img_fp, 'w', **meta) as dst:\n",
    "    for id, layer in enumerate(sentinal_band_paths, start=1):\n",
    "        with rasterio.open(layer) as src1:\n",
    "            dst.write_band(id, src1.read(1))\n",
    "\"\"\""
   ]
  },
  {
   "cell_type": "code",
   "execution_count": 185,
   "metadata": {},
   "outputs": [
    {
     "name": "stdout",
     "output_type": "stream",
     "text": [
      "(10980, 10980)\n",
      "4\n"
     ]
    }
   ],
   "source": [
    "full_dataset = rasterio.open(img_fp)\n",
    "img_rows, img_cols = full_dataset.shape\n",
    "img_bands = full_dataset.count\n",
    "print(full_dataset.shape) # dimensions\n",
    "print(full_dataset.count) # bands"
   ]
  },
  {
   "cell_type": "code",
   "execution_count": 186,
   "metadata": {},
   "outputs": [
    {
     "name": "stdout",
     "output_type": "stream",
     "text": [
      "Image filename: ./data/sentinel_bands_img_data_1.tif\n",
      "\n",
      "Number of bands in image: 4\n",
      "\n",
      "Image size is: 10980 rows x 10980 columns\n",
      "\n",
      "Raster description: (None, None, None, None)\n",
      "\n",
      "Raster driver: JP2OpenJPEG\n",
      "\n",
      "Image projection:\n",
      "EPSG:32629 \n",
      "\n",
      "Image geo-transform:\n",
      "| 10.00, 0.00, 399960.00|\n",
      "| 0.00,-10.00, 4400040.00|\n",
      "| 0.00, 0.00, 1.00|\n",
      "\n",
      "All raster metadata:\n",
      "{'driver': 'JP2OpenJPEG', 'dtype': 'uint16', 'nodata': None, 'width': 10980, 'height': 10980, 'count': 4, 'crs': CRS.from_epsg(32629), 'transform': Affine(10.0, 0.0, 399960.0,\n",
      "       0.0, -10.0, 4400040.0)}\n",
      "\n",
      "\n"
     ]
    }
   ],
   "source": [
    "dataset=full_dataset\n",
    "# what is the name of this image\n",
    "img_name = dataset.name\n",
    "print('Image filename: {n}\\n'.format(n=img_name))\n",
    "\n",
    "# How many bands does this image have?\n",
    "num_bands = dataset.count\n",
    "print('Number of bands in image: {n}\\n'.format(n=num_bands))\n",
    "\n",
    "# How many rows and columns?\n",
    "rows, cols = dataset.shape\n",
    "print('Image size is: {r} rows x {c} columns\\n'.format(r=rows, c=cols))\n",
    "\n",
    "# Does the raster have a description or metadata?\n",
    "desc = dataset.descriptions\n",
    "metadata = dataset.meta\n",
    "\n",
    "print('Raster description: {desc}\\n'.format(desc=desc))\n",
    "\n",
    "# What driver was used to open the raster?\n",
    "driver = dataset.driver\n",
    "print('Raster driver: {d}\\n'.format(d=driver))\n",
    "\n",
    "# What is the raster's projection?\n",
    "proj = dataset.crs\n",
    "if (not proj) :\n",
    "    proj = CRS.from_epsg(4326)\n",
    "print('Image projection:')\n",
    "print(proj, '\\n')\n",
    "\n",
    "# What is the raster's \"geo-transform\"\n",
    "gt = dataset.transform\n",
    "\n",
    "print('Image geo-transform:\\n{gt}\\n'.format(gt=gt))\n",
    "\n",
    "print('All raster metadata:')\n",
    "print(metadata)\n",
    "print('\\n')"
   ]
  },
  {
   "cell_type": "code",
   "execution_count": 187,
   "metadata": {},
   "outputs": [
    {
     "data": {
      "image/png": "[encoded data removed]",
      "text/plain": [
       "<Figure size 432x288 with 1 Axes>"
      ]
     },
     "metadata": {
      "needs_background": "light"
     },
     "output_type": "display_data"
    },
    {
     "data": {
      "image/png": "[encoded data removed]",
      "text/plain": [
       "<Figure size 432x288 with 1 Axes>"
      ]
     },
     "metadata": {
      "needs_background": "light"
     },
     "output_type": "display_data"
    },
    {
     "data": {
      "text/plain": [
       "<matplotlib.axes._subplots.AxesSubplot at 0x23001b35668>"
      ]
     },
     "execution_count": 187,
     "metadata": {},
     "output_type": "execute_result"
    }
   ],
   "source": [
    "from rasterio.plot import adjust_band\n",
    "from rasterio.plot import reshape_as_raster, reshape_as_image\n",
    "\n",
    "\n",
    "cutted = dataset.read([3,2,1])[:,xmin: xmax,ymin : ymax]\n",
    "rgb_norm = adjust_band(cutted) # normalize bands to range between 1.0 to 0.0\n",
    "show(rgb_norm)\n",
    "\n",
    "cutted = dataset.read([3,2,1])[:,xmin_test: xmax_test,ymin_test : ymax_test]\n",
    "rgb_norm = adjust_band(cutted) # normalize bands to range between 1.0 to 0.0\n",
    "\n",
    "show(rgb_norm)"
   ]
  },
  {
   "cell_type": "code",
   "execution_count": 188,
   "metadata": {},
   "outputs": [
    {
     "data": {
      "text/plain": [
       "'\\nclipped_img = adjust_band(cutted)\\nprint(clipped_img.shape)\\nfig, ax = plt.subplots(figsize=(10,7))\\nshow(clipped_img[:,  : , : ], ax=ax, transform=full_dataset.transform) # add the transform arg to get it in lat long coords\\n'"
      ]
     },
     "execution_count": 188,
     "metadata": {},
     "output_type": "execute_result"
    }
   ],
   "source": [
    "import matplotlib.pyplot as plt\n",
    "from rasterio.plot import show\n",
    "\"\"\"\n",
    "clipped_img = adjust_band(cutted)\n",
    "print(clipped_img.shape)\n",
    "fig, ax = plt.subplots(figsize=(10,7))\n",
    "show(clipped_img[:,  : , : ], ax=ax, transform=full_dataset.transform) # add the transform arg to get it in lat long coords\n",
    "\"\"\""
   ]
  },
  {
   "cell_type": "markdown",
   "metadata": {},
   "source": [
    "# Indices"
   ]
  },
  {
   "cell_type": "code",
   "execution_count": 189,
   "metadata": {},
   "outputs": [],
   "source": [
    "\n",
    "with rasterio.open(img_fp) as src:\n",
    "    green_band = src.read(2)[ xmin : xmax ,  ymin : ymax ] # band 3\n",
    "    red_band = src.read(3)[ xmin : xmax ,  ymin : ymax ]   # band 4\n",
    "    nir_band = src.read(4)[ xmin : xmax ,  ymin : ymax ]   # band 8\n",
    "    img = src.read()[:,  xmin : xmax ,  ymin : ymax ]\n",
    "    \n",
    "ndwi = (green_band.astype(float) - nir_band.astype(float)) / (green_band.astype(float) + nir_band.astype(float))\n",
    "ndvi = (nir_band.astype(float) - red_band.astype(float)) / (red_band.astype(float) + nir_band.astype(float))"
   ]
  },
  {
   "cell_type": "code",
   "execution_count": 190,
   "metadata": {},
   "outputs": [],
   "source": [
    "def color_stretch(image, index):\n",
    "    colors = image[:, :, index].astype(np.float64)\n",
    "    for b in range(colors.shape[2]):\n",
    "        colors[:, :, b] = rasterio.plot.adjust_band(colors[:, :, b])\n",
    "    return colors"
   ]
  },
  {
   "cell_type": "code",
   "execution_count": 191,
   "metadata": {},
   "outputs": [
    {
     "data": {
      "text/plain": [
       "'\\nfig, axs = plt.subplots(2,2,figsize=(15,7))\\n\\nreshaped_img =reshape_as_image( img )\\nimg_stretched = color_stretch(reshaped_img, [2, 1, 0])\\naxs[0,0].set_title(\"Stretch\")\\naxs[0,0].imshow(img_stretched)\\n\\naxs[0,1].set_title(\"True Color\")\\naxs[0,1].imshow(reshape_as_image(rgb_norm))\\n\\nnwdi_plot = axs[1,0].imshow(ndwi, cmap=\"RdYlBu\")\\naxs[1,0].set_title(\"NDWI\")\\nfig.colorbar(nwdi_plot, ax=axs[1,0])\\n\\nndvi_plot = axs[1,1].imshow(ndvi, cmap=\"RdYlGn\")\\naxs[1,1].set_title(\"NDVI\")\\nfig.colorbar(ndvi_plot, ax=axs[1,1])\\n\\nplt.show()\\n'"
      ]
     },
     "execution_count": 191,
     "metadata": {},
     "output_type": "execute_result"
    }
   ],
   "source": [
    "\"\"\"\n",
    "fig, axs = plt.subplots(2,2,figsize=(15,7))\n",
    "\n",
    "reshaped_img =reshape_as_image( img )\n",
    "img_stretched = color_stretch(reshaped_img, [2, 1, 0])\n",
    "axs[0,0].set_title(\"Stretch\")\n",
    "axs[0,0].imshow(img_stretched)\n",
    "\n",
    "axs[0,1].set_title(\"True Color\")\n",
    "axs[0,1].imshow(reshape_as_image(rgb_norm))\n",
    "\n",
    "nwdi_plot = axs[1,0].imshow(ndwi, cmap=\"RdYlBu\")\n",
    "axs[1,0].set_title(\"NDWI\")\n",
    "fig.colorbar(nwdi_plot, ax=axs[1,0])\n",
    "\n",
    "ndvi_plot = axs[1,1].imshow(ndvi, cmap=\"RdYlGn\")\n",
    "axs[1,1].set_title(\"NDVI\")\n",
    "fig.colorbar(ndvi_plot, ax=axs[1,1])\n",
    "\n",
    "plt.show()\n",
    "\"\"\""
   ]
  },
  {
   "cell_type": "code",
   "execution_count": 192,
   "metadata": {},
   "outputs": [],
   "source": [
    "src.close()"
   ]
  },
  {
   "cell_type": "markdown",
   "metadata": {},
   "source": [
    "# Intercepting label data with cutting image"
   ]
  },
  {
   "cell_type": "code",
   "execution_count": 193,
   "metadata": {},
   "outputs": [],
   "source": [
    "# Open the dataset from the file\n",
    "shapefile = gp.read_file('./data/shapefiles/shapefile_compressed/shp_2012_IMG_DATA_1.shp')\n",
    "shapefile = shapefile.filter(['Legenda','geometry','CLC2012'])\n",
    "shapefile.crs = {'init': 'epsg:4326'}"
   ]
  },
  {
   "cell_type": "code",
   "execution_count": 194,
   "metadata": {},
   "outputs": [
    {
     "data": {
      "text/html": [
       "<div>\n",
       "<style scoped>\n",
       "    .dataframe tbody tr th:only-of-type {\n",
       "        vertical-align: middle;\n",
       "    }\n",
       "\n",
       "    .dataframe tbody tr th {\n",
       "        vertical-align: top;\n",
       "    }\n",
       "\n",
       "    .dataframe thead th {\n",
       "        text-align: right;\n",
       "    }\n",
       "</style>\n",
       "<table border=\"1\" class=\"dataframe\">\n",
       "  <thead>\n",
       "    <tr style=\"text-align: right;\">\n",
       "      <th></th>\n",
       "      <th>Legenda</th>\n",
       "      <th>geometry</th>\n",
       "      <th>CLC2012</th>\n",
       "    </tr>\n",
       "  </thead>\n",
       "  <tbody>\n",
       "    <tr>\n",
       "      <th>0</th>\n",
       "      <td>Tecido urbano contínuo</td>\n",
       "      <td>POLYGON ((-9.27768 38.76588, -9.27746 38.76555...</td>\n",
       "      <td>111</td>\n",
       "    </tr>\n",
       "    <tr>\n",
       "      <th>1</th>\n",
       "      <td>Tecido urbano contínuo</td>\n",
       "      <td>POLYGON ((-9.25850 38.76457, -9.25850 38.76158...</td>\n",
       "      <td>111</td>\n",
       "    </tr>\n",
       "    <tr>\n",
       "      <th>2</th>\n",
       "      <td>Tecido urbano contínuo</td>\n",
       "      <td>POLYGON ((-9.21069 38.76698, -9.21064 38.76633...</td>\n",
       "      <td>111</td>\n",
       "    </tr>\n",
       "    <tr>\n",
       "      <th>3</th>\n",
       "      <td>Tecido urbano contínuo</td>\n",
       "      <td>POLYGON ((-9.22487 38.76998, -9.22474 38.76907...</td>\n",
       "      <td>111</td>\n",
       "    </tr>\n",
       "    <tr>\n",
       "      <th>4</th>\n",
       "      <td>Tecido urbano contínuo</td>\n",
       "      <td>POLYGON ((-9.15237 38.77167, -9.15397 38.77135...</td>\n",
       "      <td>111</td>\n",
       "    </tr>\n",
       "    <tr>\n",
       "      <th>...</th>\n",
       "      <td>...</td>\n",
       "      <td>...</td>\n",
       "      <td>...</td>\n",
       "    </tr>\n",
       "    <tr>\n",
       "      <th>2606</th>\n",
       "      <td>Planos de água</td>\n",
       "      <td>POLYGON ((-9.30538 39.32667, -9.30438 39.32591...</td>\n",
       "      <td>512</td>\n",
       "    </tr>\n",
       "    <tr>\n",
       "      <th>2607</th>\n",
       "      <td>Planos de água</td>\n",
       "      <td>POLYGON ((-9.12876 39.36121, -9.12819 39.36034...</td>\n",
       "      <td>512</td>\n",
       "    </tr>\n",
       "    <tr>\n",
       "      <th>2608</th>\n",
       "      <td>Lagoas costeiras</td>\n",
       "      <td>POLYGON ((-9.22812 39.43133, -9.22765 39.43071...</td>\n",
       "      <td>521</td>\n",
       "    </tr>\n",
       "    <tr>\n",
       "      <th>2609</th>\n",
       "      <td>Desembocaduras fluviais</td>\n",
       "      <td>POLYGON ((-8.99046 38.92315, -8.99021 38.92267...</td>\n",
       "      <td>522</td>\n",
       "    </tr>\n",
       "    <tr>\n",
       "      <th>2610</th>\n",
       "      <td>Oceano</td>\n",
       "      <td>POLYGON ((-8.87062 41.81409, -8.87056 41.81326...</td>\n",
       "      <td>523</td>\n",
       "    </tr>\n",
       "  </tbody>\n",
       "</table>\n",
       "<p>2611 rows × 3 columns</p>\n",
       "</div>"
      ],
      "text/plain": [
       "                      Legenda  \\\n",
       "0      Tecido urbano contínuo   \n",
       "1      Tecido urbano contínuo   \n",
       "2      Tecido urbano contínuo   \n",
       "3      Tecido urbano contínuo   \n",
       "4      Tecido urbano contínuo   \n",
       "...                       ...   \n",
       "2606           Planos de água   \n",
       "2607           Planos de água   \n",
       "2608         Lagoas costeiras   \n",
       "2609  Desembocaduras fluviais   \n",
       "2610                   Oceano   \n",
       "\n",
       "                                               geometry  CLC2012  \n",
       "0     POLYGON ((-9.27768 38.76588, -9.27746 38.76555...      111  \n",
       "1     POLYGON ((-9.25850 38.76457, -9.25850 38.76158...      111  \n",
       "2     POLYGON ((-9.21069 38.76698, -9.21064 38.76633...      111  \n",
       "3     POLYGON ((-9.22487 38.76998, -9.22474 38.76907...      111  \n",
       "4     POLYGON ((-9.15237 38.77167, -9.15397 38.77135...      111  \n",
       "...                                                 ...      ...  \n",
       "2606  POLYGON ((-9.30538 39.32667, -9.30438 39.32591...      512  \n",
       "2607  POLYGON ((-9.12876 39.36121, -9.12819 39.36034...      512  \n",
       "2608  POLYGON ((-9.22812 39.43133, -9.22765 39.43071...      521  \n",
       "2609  POLYGON ((-8.99046 38.92315, -8.99021 38.92267...      522  \n",
       "2610  POLYGON ((-8.87062 41.81409, -8.87056 41.81326...      523  \n",
       "\n",
       "[2611 rows x 3 columns]"
      ]
     },
     "execution_count": 194,
     "metadata": {},
     "output_type": "execute_result"
    }
   ],
   "source": [
    "shapefile"
   ]
  },
  {
   "cell_type": "code",
   "execution_count": 195,
   "metadata": {},
   "outputs": [
    {
     "name": "stderr",
     "output_type": "stream",
     "text": [
      "C:\\ProgramData\\Anaconda3\\envs\\geo_py37\\lib\\site-packages\\pyproj\\crs.py:77: FutureWarning: '+init=<authority>:<code>' syntax is deprecated. '<authority>:<code>' is the preferred initialization method.\n",
      "  return _prepare_from_string(\" \".join(pjargs))\n"
     ]
    }
   ],
   "source": [
    "shapefile = shapefile.to_crs({'init': 'epsg:32629'})"
   ]
  },
  {
   "cell_type": "code",
   "execution_count": 196,
   "metadata": {},
   "outputs": [
    {
     "data": {
      "text/html": [
       "<div>\n",
       "<style scoped>\n",
       "    .dataframe tbody tr th:only-of-type {\n",
       "        vertical-align: middle;\n",
       "    }\n",
       "\n",
       "    .dataframe tbody tr th {\n",
       "        vertical-align: top;\n",
       "    }\n",
       "\n",
       "    .dataframe thead th {\n",
       "        text-align: right;\n",
       "    }\n",
       "</style>\n",
       "<table border=\"1\" class=\"dataframe\">\n",
       "  <thead>\n",
       "    <tr style=\"text-align: right;\">\n",
       "      <th></th>\n",
       "      <th>minx</th>\n",
       "      <th>miny</th>\n",
       "      <th>maxx</th>\n",
       "      <th>maxy</th>\n",
       "    </tr>\n",
       "  </thead>\n",
       "  <tbody>\n",
       "    <tr>\n",
       "      <th>0</th>\n",
       "      <td>474782.521060</td>\n",
       "      <td>4.288877e+06</td>\n",
       "      <td>476430.681811</td>\n",
       "      <td>4.290843e+06</td>\n",
       "    </tr>\n",
       "    <tr>\n",
       "      <th>1</th>\n",
       "      <td>476591.348965</td>\n",
       "      <td>4.289766e+06</td>\n",
       "      <td>477555.487955</td>\n",
       "      <td>4.290956e+06</td>\n",
       "    </tr>\n",
       "    <tr>\n",
       "      <th>2</th>\n",
       "      <td>480560.441620</td>\n",
       "      <td>4.290757e+06</td>\n",
       "      <td>481700.696947</td>\n",
       "      <td>4.291425e+06</td>\n",
       "    </tr>\n",
       "    <tr>\n",
       "      <th>3</th>\n",
       "      <td>477478.133322</td>\n",
       "      <td>4.287956e+06</td>\n",
       "      <td>482136.028108</td>\n",
       "      <td>4.291520e+06</td>\n",
       "    </tr>\n",
       "    <tr>\n",
       "      <th>4</th>\n",
       "      <td>486477.998487</td>\n",
       "      <td>4.291415e+06</td>\n",
       "      <td>487108.983959</td>\n",
       "      <td>4.292233e+06</td>\n",
       "    </tr>\n",
       "    <tr>\n",
       "      <th>...</th>\n",
       "      <td>...</td>\n",
       "      <td>...</td>\n",
       "      <td>...</td>\n",
       "      <td>...</td>\n",
       "    </tr>\n",
       "    <tr>\n",
       "      <th>2606</th>\n",
       "      <td>472616.358933</td>\n",
       "      <td>4.352466e+06</td>\n",
       "      <td>474147.798607</td>\n",
       "      <td>4.353889e+06</td>\n",
       "    </tr>\n",
       "    <tr>\n",
       "      <th>2607</th>\n",
       "      <td>488111.339739</td>\n",
       "      <td>4.355853e+06</td>\n",
       "      <td>490649.235019</td>\n",
       "      <td>4.357006e+06</td>\n",
       "    </tr>\n",
       "    <tr>\n",
       "      <th>2608</th>\n",
       "      <td>479637.064347</td>\n",
       "      <td>4.359617e+06</td>\n",
       "      <td>484220.218501</td>\n",
       "      <td>4.364724e+06</td>\n",
       "    </tr>\n",
       "    <tr>\n",
       "      <th>2609</th>\n",
       "      <td>471843.279019</td>\n",
       "      <td>4.272805e+06</td>\n",
       "      <td>507900.408025</td>\n",
       "      <td>4.309807e+06</td>\n",
       "    </tr>\n",
       "    <tr>\n",
       "      <th>2610</th>\n",
       "      <td>431145.184713</td>\n",
       "      <td>4.065596e+06</td>\n",
       "      <td>659593.163080</td>\n",
       "      <td>4.636431e+06</td>\n",
       "    </tr>\n",
       "  </tbody>\n",
       "</table>\n",
       "<p>2611 rows × 4 columns</p>\n",
       "</div>"
      ],
      "text/plain": [
       "               minx          miny           maxx          maxy\n",
       "0     474782.521060  4.288877e+06  476430.681811  4.290843e+06\n",
       "1     476591.348965  4.289766e+06  477555.487955  4.290956e+06\n",
       "2     480560.441620  4.290757e+06  481700.696947  4.291425e+06\n",
       "3     477478.133322  4.287956e+06  482136.028108  4.291520e+06\n",
       "4     486477.998487  4.291415e+06  487108.983959  4.292233e+06\n",
       "...             ...           ...            ...           ...\n",
       "2606  472616.358933  4.352466e+06  474147.798607  4.353889e+06\n",
       "2607  488111.339739  4.355853e+06  490649.235019  4.357006e+06\n",
       "2608  479637.064347  4.359617e+06  484220.218501  4.364724e+06\n",
       "2609  471843.279019  4.272805e+06  507900.408025  4.309807e+06\n",
       "2610  431145.184713  4.065596e+06  659593.163080  4.636431e+06\n",
       "\n",
       "[2611 rows x 4 columns]"
      ]
     },
     "execution_count": 196,
     "metadata": {},
     "output_type": "execute_result"
    }
   ],
   "source": [
    "shapefile.bounds"
   ]
  },
  {
   "cell_type": "markdown",
   "metadata": {},
   "source": [
    "Img_data_1 cutted"
   ]
  },
  {
   "cell_type": "code",
   "execution_count": 197,
   "metadata": {},
   "outputs": [
    {
     "name": "stdout",
     "output_type": "stream",
     "text": [
      "Proj('+proj=utm +zone=29 +datum=WGS84 +units=m +no_defs', preserve_units=True)\n",
      "raster bounds in current crs :\n",
      " ((464960.0, 4334040.0), (469960.0, 4334040.0), (469960.0, 4329040.0), (464960.0, 4329040.0))\n",
      "Proj('+proj=utm +zone=29 +datum=WGS84 +units=m +no_defs', preserve_units=True)\n",
      "raster bounds in current crs :\n",
      " ((459960.0, 4332040.0), (464960.0, 4332040.0), (464960.0, 4327040.0), (459960.0, 4327040.0))\n"
     ]
    }
   ],
   "source": [
    "from pyproj import transform\n",
    "from pyproj import Proj\n",
    "def cut_bounds( xmin , xmax ,  ymin , ymax ):\n",
    "    # this will get our four corner points\n",
    "    xmin = xmin \n",
    "    ymin = ymin\n",
    "    xmax = xmax\n",
    "    ymax = ymax\n",
    "    raster_gps_points = full_dataset.transform * (xmin, ymin),full_dataset.transform * (xmax, ymin),full_dataset.transform * (xmax, ymax), full_dataset.transform * (xmin, ymax),\n",
    "    # Project all longitudes, latitudes using the pyproj package\n",
    "    p1 = Proj(dataset.crs) # our current crs\n",
    "    print(p1)\n",
    "    print('raster bounds in current crs :\\n', raster_gps_points)\n",
    "    return raster_gps_points\n",
    "raster_gps_points = cut_bounds( xmin , xmax ,  ymin , ymax )\n",
    "raster_gps_points_test = cut_bounds( xmin_test , xmax_test ,  ymin_test , ymax_test )"
   ]
  },
  {
   "cell_type": "code",
   "execution_count": 198,
   "metadata": {},
   "outputs": [
    {
     "name": "stdout",
     "output_type": "stream",
     "text": [
      "Polygon raster gps points POLYGON ((464960 4334040, 469960 4334040, 469960 4329040, 464960 4329040, 464960 4334040))\n",
      "Imaged cutted bounds        minx       miny      maxx       maxy\n",
      "0 -9.405542  39.109805 -9.347453  39.155046\n"
     ]
    },
    {
     "name": "stderr",
     "output_type": "stream",
     "text": [
      "C:\\ProgramData\\Anaconda3\\envs\\geo_py37\\lib\\site-packages\\pyproj\\crs.py:77: FutureWarning: '+init=<authority>:<code>' syntax is deprecated. '<authority>:<code>' is the preferred initialization method.\n",
      "  return _prepare_from_string(\" \".join(pjargs))\n",
      "C:\\ProgramData\\Anaconda3\\envs\\geo_py37\\lib\\site-packages\\pyproj\\crs.py:77: FutureWarning: '+init=<authority>:<code>' syntax is deprecated. '<authority>:<code>' is the preferred initialization method.\n",
      "  return _prepare_from_string(\" \".join(pjargs))\n"
     ]
    },
    {
     "name": "stdout",
     "output_type": "stream",
     "text": [
      "Shapefile bounds           minx       miny      maxx       maxy\n",
      "0    -9.290231  38.748262 -9.271269  38.765971\n",
      "1    -9.269420  38.756289 -9.258351  38.767022\n",
      "2    -9.223762  38.765308 -9.210637  38.771348\n",
      "3    -9.259214  38.740093 -9.205557  38.772182\n",
      "4    -9.155668  38.771354 -9.148402  38.778720\n",
      "...        ...        ...       ...        ...\n",
      "2606 -9.317734  39.321207 -9.299920  39.333992\n",
      "2607 -9.137997  39.352063 -9.108531  39.362436\n",
      "2608 -9.236594  39.385820 -9.183275  39.431828\n",
      "2609 -9.323687  38.603732 -8.908901  38.937196\n",
      "2610 -9.792798  36.730845 -7.206483  41.879798\n",
      "\n",
      "[2611 rows x 4 columns]\n",
      "Intersected df     index                                           Legenda  \\\n",
      "0      33                            Tecido urbano contínuo   \n",
      "1     241                         Tecido urbano descontínuo   \n",
      "2     247                         Tecido urbano descontínuo   \n",
      "3     255                         Tecido urbano descontínuo   \n",
      "4     669                  Culturas temporárias de sequeiro   \n",
      "5     679                  Culturas temporárias de sequeiro   \n",
      "6     685                  Culturas temporárias de sequeiro   \n",
      "7     686                  Culturas temporárias de sequeiro   \n",
      "8     688                  Culturas temporárias de sequeiro   \n",
      "9     742                   Culturas temporárias de regadio   \n",
      "10   1122         Sistemas culturais e parcelares complexos   \n",
      "11   1123         Sistemas culturais e parcelares complexos   \n",
      "12   1125         Sistemas culturais e parcelares complexos   \n",
      "13   1131         Sistemas culturais e parcelares complexos   \n",
      "14   1134         Sistemas culturais e parcelares complexos   \n",
      "15   1136         Sistemas culturais e parcelares complexos   \n",
      "16   1213         Sistemas culturais e parcelares complexos   \n",
      "17   1494  Agricultura com espaços naturais e semi-naturais   \n",
      "18   1496  Agricultura com espaços naturais e semi-naturais   \n",
      "19   1501  Agricultura com espaços naturais e semi-naturais   \n",
      "20   1508  Agricultura com espaços naturais e semi-naturais   \n",
      "21   1517  Agricultura com espaços naturais e semi-naturais   \n",
      "22   1534  Agricultura com espaços naturais e semi-naturais   \n",
      "23   1849                             Florestas de folhosas   \n",
      "24   1851                             Florestas de folhosas   \n",
      "25   1853                             Florestas de folhosas   \n",
      "26   1982                            Florestas de resinosas   \n",
      "27   2329                                             Matos   \n",
      "28   2574                            Praias, dunas e areais   \n",
      "29   2610                                            Oceano   \n",
      "\n",
      "                                             geometry  CLC2012  index_right  \n",
      "0   POLYGON ((-9.38224 39.13610, -9.38118 39.13594...      111            0  \n",
      "1   POLYGON ((-9.38625 39.11781, -9.38522 39.11760...      112            0  \n",
      "2   POLYGON ((-9.35822 39.13399, -9.35783 39.13381...      112            0  \n",
      "3   POLYGON ((-9.35573 39.14784, -9.35551 39.14782...      112            0  \n",
      "4   POLYGON ((-9.37935 39.11305, -9.37890 39.11288...      211            0  \n",
      "5   POLYGON ((-9.35124 39.13688, -9.35121 39.13686...      211            0  \n",
      "6   POLYGON ((-9.36537 39.15291, -9.36496 39.15288...      211            0  \n",
      "7   POLYGON ((-9.34311 39.15612, -9.34257 39.15613...      211            0  \n",
      "8   POLYGON ((-9.35380 39.16209, -9.35330 39.16198...      211            0  \n",
      "9   POLYGON ((-9.37202 39.10982, -9.37161 39.10917...      212            0  \n",
      "10  POLYGON ((-9.38501 39.11545, -9.38499 39.11440...      242            0  \n",
      "11  POLYGON ((-9.35314 39.11344, -9.35279 39.11344...      242            0  \n",
      "12  POLYGON ((-9.36272 39.11670, -9.36118 39.11628...      242            0  \n",
      "13  POLYGON ((-9.38413 39.13054, -9.38392 39.13049...      242            0  \n",
      "14  POLYGON ((-9.36446 39.13380, -9.36495 39.13267...      242            0  \n",
      "15  POLYGON ((-9.35627 39.13557, -9.35540 39.13552...      242            0  \n",
      "16  POLYGON ((-9.30738 39.35661, -9.30670 39.35561...      242            0  \n",
      "17  POLYGON ((-9.36601 39.10919, -9.36548 39.10906...      243            0  \n",
      "18  POLYGON ((-9.34274 39.11982, -9.34274 39.11957...      243            0  \n",
      "19  POLYGON ((-9.35910 39.12056, -9.35974 39.12054...      243            0  \n",
      "20  POLYGON ((-9.36473 39.12308, -9.36510 39.12282...      243            0  \n",
      "21  POLYGON ((-9.35489 39.14096, -9.35438 39.14057...      243            0  \n",
      "22  POLYGON ((-9.35534 39.16173, -9.35678 39.16154...      243            0  \n",
      "23  POLYGON ((-9.35191 39.13558, -9.35121 39.13542...      311            0  \n",
      "24  POLYGON ((-9.36330 39.13775, -9.36253 39.13774...      311            0  \n",
      "25  POLYGON ((-9.34490 39.14105, -9.34512 39.14074...      311            0  \n",
      "26  POLYGON ((-9.36825 39.13473, -9.36794 39.13465...      312            0  \n",
      "27  POLYGON ((-9.35972 39.16864, -9.35919 39.16839...      322            0  \n",
      "28  POLYGON ((-9.38918 39.10627, -9.38878 39.10558...      331            0  \n",
      "29  POLYGON ((-8.87062 41.81409, -8.87056 41.81326...      523            0  \n",
      "Intersected crs {'init': 'epsg:4326', 'no_defs': True}\n",
      "Intersected bounds         minx       miny      maxx       maxy\n",
      "0  -9.385348  39.129342 -9.373846  39.136129\n",
      "1  -9.393315  39.112158 -9.382675  39.118861\n",
      "2  -9.382986  39.107055 -9.355782  39.134736\n",
      "3  -9.382242  39.132372 -9.350183  39.151957\n",
      "4  -9.386695  39.104219 -9.372128  39.116152\n",
      "5  -9.361471  39.113438 -9.339047  39.137040\n",
      "6  -9.371393  39.147011 -9.362897  39.154949\n",
      "7  -9.347818  39.146418 -9.328153  39.156131\n",
      "8  -9.360660  39.151547 -9.351045  39.168980\n",
      "9  -9.377607  39.102357 -9.369505  39.109984\n",
      "10 -9.424319  39.009384 -9.352149  39.115720\n",
      "11 -9.364026  39.089601 -9.344767  39.117164\n",
      "12 -9.370022  39.113350 -9.358913  39.120745\n",
      "13 -9.393211  39.112879 -9.374702  39.130599\n",
      "14 -9.378663  39.120338 -9.359697  39.134496\n",
      "15 -9.359853  39.120707 -9.349516  39.135575\n",
      "16 -9.364021  39.123964 -9.158486  39.361480\n",
      "17 -9.369590  39.102890 -9.359325  39.111293\n",
      "18 -9.351651  39.109880 -9.342735  39.120009\n",
      "19 -9.365084  39.116280 -9.357687  39.123829\n",
      "20 -9.370496  39.121644 -9.362913  39.129738\n",
      "21 -9.365992  39.131448 -9.354380  39.146384\n",
      "22 -9.364819  39.146342 -9.355345  39.166611\n",
      "23 -9.355400  39.130384 -9.348698  39.136048\n",
      "24 -9.368451  39.131285 -9.360981  39.139984\n",
      "25 -9.356132  39.130794 -9.338764  39.142884\n",
      "26 -9.375123  39.132897 -9.365951  39.141634\n",
      "27 -9.368191  39.152884 -9.357831  39.168932\n",
      "28 -9.402329  39.100989 -9.388246  39.113455\n",
      "29 -9.792798  36.730845 -7.206483  41.879798\n"
     ]
    }
   ],
   "source": [
    "def shapefile_from_rasterbounds(raster_gps_points,shapefile) :\n",
    "    polygon = Polygon( list(raster_gps_points))\n",
    "    print(\"Polygon raster gps points\",polygon)\n",
    "    imageBounds = gp.GeoDataFrame(crs=CRS.from_epsg(32629))\n",
    "    imageBounds.geometry = [polygon]\n",
    "    imageBounds = imageBounds.to_crs(fiona.crs.from_epsg(4326))\n",
    "    print(\"Imaged cutted bounds\",imageBounds.bounds)\n",
    "    shapefile = shapefile.to_crs(fiona.crs.from_epsg(4326))\n",
    "    print(\"Shapefile bounds\",shapefile.bounds)\n",
    "    intersected = gp.sjoin( shapefile, imageBounds, how='inner', op='intersects', lsuffix='left', rsuffix='right')\n",
    "    intersected = intersected.reset_index()\n",
    "    print(\"Intersected df\",intersected)\n",
    "    print(\"Intersected crs\",intersected.crs)\n",
    "    print(\"Intersected bounds\",intersected.bounds)\n",
    "    return intersected\n",
    "intersected = shapefile_from_rasterbounds(raster_gps_points,shapefile)"
   ]
  },
  {
   "cell_type": "code",
   "execution_count": 199,
   "metadata": {},
   "outputs": [
    {
     "name": "stdout",
     "output_type": "stream",
     "text": [
      "Polygon raster gps points POLYGON ((459960 4332040, 464960 4332040, 464960 4327040, 459960 4327040, 459960 4332040))\n",
      "Imaged cutted bounds        minx       miny      maxx       maxy\n",
      "0 -9.463291  39.091567 -9.405181  39.136837\n"
     ]
    },
    {
     "name": "stderr",
     "output_type": "stream",
     "text": [
      "C:\\ProgramData\\Anaconda3\\envs\\geo_py37\\lib\\site-packages\\pyproj\\crs.py:77: FutureWarning: '+init=<authority>:<code>' syntax is deprecated. '<authority>:<code>' is the preferred initialization method.\n",
      "  return _prepare_from_string(\" \".join(pjargs))\n",
      "C:\\ProgramData\\Anaconda3\\envs\\geo_py37\\lib\\site-packages\\pyproj\\crs.py:77: FutureWarning: '+init=<authority>:<code>' syntax is deprecated. '<authority>:<code>' is the preferred initialization method.\n",
      "  return _prepare_from_string(\" \".join(pjargs))\n"
     ]
    },
    {
     "name": "stdout",
     "output_type": "stream",
     "text": [
      "Shapefile bounds           minx       miny      maxx       maxy\n",
      "0    -9.290231  38.748262 -9.271269  38.765971\n",
      "1    -9.269420  38.756289 -9.258351  38.767022\n",
      "2    -9.223762  38.765308 -9.210637  38.771348\n",
      "3    -9.259214  38.740093 -9.205557  38.772182\n",
      "4    -9.155668  38.771354 -9.148402  38.778720\n",
      "...        ...        ...       ...        ...\n",
      "2606 -9.317734  39.321207 -9.299920  39.333992\n",
      "2607 -9.137997  39.352063 -9.108531  39.362436\n",
      "2608 -9.236594  39.385820 -9.183275  39.431828\n",
      "2609 -9.323687  38.603732 -8.908901  38.937196\n",
      "2610 -9.792798  36.730845 -7.206483  41.879798\n",
      "\n",
      "[2611 rows x 4 columns]\n",
      "Intersected df    index                                    Legenda  \\\n",
      "0   1122  Sistemas culturais e parcelares complexos   \n",
      "1   2610                                     Oceano   \n",
      "\n",
      "                                            geometry  CLC2012  index_right  \n",
      "0  POLYGON ((-9.38501 39.11545, -9.38499 39.11440...      242            0  \n",
      "1  POLYGON ((-8.87062 41.81409, -8.87056 41.81326...      523            0  \n",
      "Intersected crs {'init': 'epsg:4326', 'no_defs': True}\n",
      "Intersected bounds        minx       miny      maxx       maxy\n",
      "0 -9.424319  39.009384 -9.352149  39.115720\n",
      "1 -9.792798  36.730845 -7.206483  41.879798\n"
     ]
    }
   ],
   "source": [
    "intersected_test = shapefile_from_rasterbounds(raster_gps_points_test,shapefile)"
   ]
  },
  {
   "cell_type": "code",
   "execution_count": 200,
   "metadata": {},
   "outputs": [
    {
     "name": "stdout",
     "output_type": "stream",
     "text": [
      "111\n"
     ]
    },
    {
     "data": {
      "text/plain": [
       "'Territórios artificializados'"
      ]
     },
     "execution_count": 200,
     "metadata": {},
     "output_type": "execute_result"
    }
   ],
   "source": [
    "import re\n",
    "def class_from_CLCcode(clc) :\n",
    "    mega_classes = {\n",
    "        '^1.*' : 'Territórios artificializados',\n",
    "        '^2.*' : 'Agricultura',\n",
    "        '^31.*' : 'Floresta',\n",
    "        '^3.4' : 'Floresta',\n",
    "        '^32[123]' : 'Vegetação natural',\n",
    "        '^33[123]' : 'Espaços descobertos ou com vegetação esparsa',\n",
    "        '^41.*' : 'Zonas húmidas',\n",
    "        '^42[13]' : 'Zonas húmidas',\n",
    "        '^5.*' : 'Corpos de água',\n",
    "        '^422' : 'Corpos de água'\n",
    "    }\n",
    "    for mega_class_key in mega_classes :\n",
    "        searched =  re.search(mega_class_key, str(clc))\n",
    "        if searched is not None:\n",
    "            return mega_classes[mega_class_key]\n",
    "    return 'Not Defined'\n",
    "\n",
    "x = intersected['CLC2012'][0] \n",
    "print (x)\n",
    "class_from_CLCcode (x) "
   ]
  },
  {
   "cell_type": "code",
   "execution_count": 201,
   "metadata": {},
   "outputs": [
    {
     "data": {
      "text/html": [
       "<div>\n",
       "<style scoped>\n",
       "    .dataframe tbody tr th:only-of-type {\n",
       "        vertical-align: middle;\n",
       "    }\n",
       "\n",
       "    .dataframe tbody tr th {\n",
       "        vertical-align: top;\n",
       "    }\n",
       "\n",
       "    .dataframe thead th {\n",
       "        text-align: right;\n",
       "    }\n",
       "</style>\n",
       "<table border=\"1\" class=\"dataframe\">\n",
       "  <thead>\n",
       "    <tr style=\"text-align: right;\">\n",
       "      <th></th>\n",
       "      <th>index</th>\n",
       "      <th>Legenda</th>\n",
       "      <th>geometry</th>\n",
       "      <th>CLC2012</th>\n",
       "      <th>index_right</th>\n",
       "      <th>Mega_Legenda</th>\n",
       "    </tr>\n",
       "  </thead>\n",
       "  <tbody>\n",
       "    <tr>\n",
       "      <th>0</th>\n",
       "      <td>33</td>\n",
       "      <td>Tecido urbano contínuo</td>\n",
       "      <td>POLYGON ((-9.38224 39.13610, -9.38118 39.13594...</td>\n",
       "      <td>111</td>\n",
       "      <td>0</td>\n",
       "      <td>Territórios artificializados</td>\n",
       "    </tr>\n",
       "    <tr>\n",
       "      <th>1</th>\n",
       "      <td>241</td>\n",
       "      <td>Tecido urbano descontínuo</td>\n",
       "      <td>POLYGON ((-9.38625 39.11781, -9.38522 39.11760...</td>\n",
       "      <td>112</td>\n",
       "      <td>0</td>\n",
       "      <td>Territórios artificializados</td>\n",
       "    </tr>\n",
       "    <tr>\n",
       "      <th>2</th>\n",
       "      <td>247</td>\n",
       "      <td>Tecido urbano descontínuo</td>\n",
       "      <td>POLYGON ((-9.35822 39.13399, -9.35783 39.13381...</td>\n",
       "      <td>112</td>\n",
       "      <td>0</td>\n",
       "      <td>Territórios artificializados</td>\n",
       "    </tr>\n",
       "    <tr>\n",
       "      <th>3</th>\n",
       "      <td>255</td>\n",
       "      <td>Tecido urbano descontínuo</td>\n",
       "      <td>POLYGON ((-9.35573 39.14784, -9.35551 39.14782...</td>\n",
       "      <td>112</td>\n",
       "      <td>0</td>\n",
       "      <td>Territórios artificializados</td>\n",
       "    </tr>\n",
       "    <tr>\n",
       "      <th>4</th>\n",
       "      <td>669</td>\n",
       "      <td>Culturas temporárias de sequeiro</td>\n",
       "      <td>POLYGON ((-9.37935 39.11305, -9.37890 39.11288...</td>\n",
       "      <td>211</td>\n",
       "      <td>0</td>\n",
       "      <td>Agricultura</td>\n",
       "    </tr>\n",
       "  </tbody>\n",
       "</table>\n",
       "</div>"
      ],
      "text/plain": [
       "   index                           Legenda  \\\n",
       "0     33            Tecido urbano contínuo   \n",
       "1    241         Tecido urbano descontínuo   \n",
       "2    247         Tecido urbano descontínuo   \n",
       "3    255         Tecido urbano descontínuo   \n",
       "4    669  Culturas temporárias de sequeiro   \n",
       "\n",
       "                                            geometry  CLC2012  index_right  \\\n",
       "0  POLYGON ((-9.38224 39.13610, -9.38118 39.13594...      111            0   \n",
       "1  POLYGON ((-9.38625 39.11781, -9.38522 39.11760...      112            0   \n",
       "2  POLYGON ((-9.35822 39.13399, -9.35783 39.13381...      112            0   \n",
       "3  POLYGON ((-9.35573 39.14784, -9.35551 39.14782...      112            0   \n",
       "4  POLYGON ((-9.37935 39.11305, -9.37890 39.11288...      211            0   \n",
       "\n",
       "                   Mega_Legenda  \n",
       "0  Territórios artificializados  \n",
       "1  Territórios artificializados  \n",
       "2  Territórios artificializados  \n",
       "3  Territórios artificializados  \n",
       "4                   Agricultura  "
      ]
     },
     "execution_count": 201,
     "metadata": {},
     "output_type": "execute_result"
    }
   ],
   "source": [
    "for i in intersected.index:\n",
    "    clc = intersected.at[i, 'CLC2012']\n",
    "    new_class = class_from_CLCcode(clc)\n",
    "    intersected.at[i, 'Mega_Legenda'] = new_class\n",
    "intersected.head()"
   ]
  },
  {
   "cell_type": "code",
   "execution_count": 202,
   "metadata": {},
   "outputs": [
    {
     "data": {
      "text/html": [
       "<div>\n",
       "<style scoped>\n",
       "    .dataframe tbody tr th:only-of-type {\n",
       "        vertical-align: middle;\n",
       "    }\n",
       "\n",
       "    .dataframe tbody tr th {\n",
       "        vertical-align: top;\n",
       "    }\n",
       "\n",
       "    .dataframe thead th {\n",
       "        text-align: right;\n",
       "    }\n",
       "</style>\n",
       "<table border=\"1\" class=\"dataframe\">\n",
       "  <thead>\n",
       "    <tr style=\"text-align: right;\">\n",
       "      <th></th>\n",
       "      <th>index</th>\n",
       "      <th>Legenda</th>\n",
       "      <th>geometry</th>\n",
       "      <th>CLC2012</th>\n",
       "      <th>index_right</th>\n",
       "      <th>Mega_Legenda</th>\n",
       "    </tr>\n",
       "  </thead>\n",
       "  <tbody>\n",
       "    <tr>\n",
       "      <th>0</th>\n",
       "      <td>1122</td>\n",
       "      <td>Sistemas culturais e parcelares complexos</td>\n",
       "      <td>POLYGON ((-9.38501 39.11545, -9.38499 39.11440...</td>\n",
       "      <td>242</td>\n",
       "      <td>0</td>\n",
       "      <td>Agricultura</td>\n",
       "    </tr>\n",
       "    <tr>\n",
       "      <th>1</th>\n",
       "      <td>2610</td>\n",
       "      <td>Oceano</td>\n",
       "      <td>POLYGON ((-8.87062 41.81409, -8.87056 41.81326...</td>\n",
       "      <td>523</td>\n",
       "      <td>0</td>\n",
       "      <td>Corpos de água</td>\n",
       "    </tr>\n",
       "  </tbody>\n",
       "</table>\n",
       "</div>"
      ],
      "text/plain": [
       "   index                                    Legenda  \\\n",
       "0   1122  Sistemas culturais e parcelares complexos   \n",
       "1   2610                                     Oceano   \n",
       "\n",
       "                                            geometry  CLC2012  index_right  \\\n",
       "0  POLYGON ((-9.38501 39.11545, -9.38499 39.11440...      242            0   \n",
       "1  POLYGON ((-8.87062 41.81409, -8.87056 41.81326...      523            0   \n",
       "\n",
       "     Mega_Legenda  \n",
       "0     Agricultura  \n",
       "1  Corpos de água  "
      ]
     },
     "execution_count": 202,
     "metadata": {},
     "output_type": "execute_result"
    }
   ],
   "source": [
    "for i in intersected_test.index:\n",
    "    clc = intersected_test.at[i, 'CLC2012']\n",
    "    new_class = class_from_CLCcode(clc)\n",
    "    intersected_test.at[i, 'Mega_Legenda'] = new_class\n",
    "intersected_test.head()"
   ]
  },
  {
   "cell_type": "code",
   "execution_count": 203,
   "metadata": {},
   "outputs": [
    {
     "data": {
      "image/png": "[encoded data removed]",
      "text/plain": [
       "<Figure size 432x288 with 1 Axes>"
      ]
     },
     "metadata": {
      "needs_background": "light"
     },
     "output_type": "display_data"
    },
    {
     "name": "stdout",
     "output_type": "stream",
     "text": [
      "Number of different classes :6\n",
      "['Agricultura' 'Corpos de água'\n",
      " 'Espaços descobertos ou com vegetação esparsa' 'Floresta'\n",
      " 'Territórios artificializados' 'Vegetação natural']\n"
     ]
    }
   ],
   "source": [
    "import matplotlib.pyplot as plt\n",
    "unique, counts = np.unique(intersected['Mega_Legenda'], return_counts=True)\n",
    "plt.bar(unique, counts, 1)\n",
    "plt.title('Class Frequency')\n",
    "plt.xlabel('Class')\n",
    "plt.ylabel('Frequency')\n",
    "plt.show()\n",
    "\n",
    "print('Number of different classes :'  + str(len(unique)))\n",
    "print(unique)"
   ]
  },
  {
   "cell_type": "markdown",
   "metadata": {},
   "source": [
    "# Setting up label data with bands"
   ]
  },
  {
   "cell_type": "code",
   "execution_count": 204,
   "metadata": {},
   "outputs": [
    {
     "name": "stdout",
     "output_type": "stream",
     "text": [
      "Data crs: EPSG:32629\n",
      "Before crs: {'init': 'epsg:4326', 'no_defs': True}\n"
     ]
    },
    {
     "name": "stderr",
     "output_type": "stream",
     "text": [
      "C:\\ProgramData\\Anaconda3\\envs\\geo_py37\\lib\\site-packages\\pyproj\\crs.py:77: FutureWarning: '+init=<authority>:<code>' syntax is deprecated. '<authority>:<code>' is the preferred initialization method.\n",
      "  return _prepare_from_string(\" \".join(pjargs))\n"
     ]
    },
    {
     "name": "stdout",
     "output_type": "stream",
     "text": [
      "After crs: {'init': 'epsg:32629'}\n",
      "Data crs: EPSG:32629\n",
      "Before crs: {'init': 'epsg:4326', 'no_defs': True}\n"
     ]
    },
    {
     "name": "stderr",
     "output_type": "stream",
     "text": [
      "C:\\ProgramData\\Anaconda3\\envs\\geo_py37\\lib\\site-packages\\pyproj\\crs.py:77: FutureWarning: '+init=<authority>:<code>' syntax is deprecated. '<authority>:<code>' is the preferred initialization method.\n",
      "  return _prepare_from_string(\" \".join(pjargs))\n"
     ]
    },
    {
     "name": "stdout",
     "output_type": "stream",
     "text": [
      "After crs: {'init': 'epsg:32629'}\n"
     ]
    }
   ],
   "source": [
    "def setup_shafile_to_data(shapefile,full_dataset) :\n",
    "    shapefile = shapefile.filter(['Legenda','Mega_Legenda', 'geometry','CLC2012'])\n",
    "    print(\"Data crs: \" + str(full_dataset.crs))\n",
    "    print(\"Before crs: \" + str(shapefile.crs))\n",
    "    if shapefile.crs != {'init': 'epsg:32629'} :\n",
    "        shapefile = shapefile.to_crs({'init': 'epsg:32629'})\n",
    "    print(\"After crs: \" + str(shapefile.crs))\n",
    "    return shapefile\n",
    "shapefile = setup_shafile_to_data(intersected,full_dataset)\n",
    "shapefile_test = setup_shafile_to_data(intersected_test,full_dataset)"
   ]
  },
  {
   "cell_type": "code",
   "execution_count": 205,
   "metadata": {},
   "outputs": [
    {
     "data": {
      "text/html": [
       "<div>\n",
       "<style scoped>\n",
       "    .dataframe tbody tr th:only-of-type {\n",
       "        vertical-align: middle;\n",
       "    }\n",
       "\n",
       "    .dataframe tbody tr th {\n",
       "        vertical-align: top;\n",
       "    }\n",
       "\n",
       "    .dataframe thead th {\n",
       "        text-align: right;\n",
       "    }\n",
       "</style>\n",
       "<table border=\"1\" class=\"dataframe\">\n",
       "  <thead>\n",
       "    <tr style=\"text-align: right;\">\n",
       "      <th></th>\n",
       "      <th>Legenda</th>\n",
       "      <th>Mega_Legenda</th>\n",
       "      <th>geometry</th>\n",
       "      <th>CLC2012</th>\n",
       "    </tr>\n",
       "  </thead>\n",
       "  <tbody>\n",
       "    <tr>\n",
       "      <th>0</th>\n",
       "      <td>Tecido urbano contínuo</td>\n",
       "      <td>Territórios artificializados</td>\n",
       "      <td>POLYGON ((466964.424 4331949.479, 467056.111 4...</td>\n",
       "      <td>111</td>\n",
       "    </tr>\n",
       "    <tr>\n",
       "      <th>1</th>\n",
       "      <td>Tecido urbano descontínuo</td>\n",
       "      <td>Territórios artificializados</td>\n",
       "      <td>POLYGON ((466609.165 4329920.686, 466698.172 4...</td>\n",
       "      <td>112</td>\n",
       "    </tr>\n",
       "    <tr>\n",
       "      <th>2</th>\n",
       "      <td>Tecido urbano descontínuo</td>\n",
       "      <td>Territórios artificializados</td>\n",
       "      <td>POLYGON ((469039.730 4331706.460, 469073.026 4...</td>\n",
       "      <td>112</td>\n",
       "    </tr>\n",
       "    <tr>\n",
       "      <th>3</th>\n",
       "      <td>Tecido urbano descontínuo</td>\n",
       "      <td>Territórios artificializados</td>\n",
       "      <td>POLYGON ((469260.812 4333243.314, 469280.171 4...</td>\n",
       "      <td>112</td>\n",
       "    </tr>\n",
       "    <tr>\n",
       "      <th>4</th>\n",
       "      <td>Culturas temporárias de sequeiro</td>\n",
       "      <td>Agricultura</td>\n",
       "      <td>POLYGON ((467203.867 4329390.271, 467242.736 4...</td>\n",
       "      <td>211</td>\n",
       "    </tr>\n",
       "  </tbody>\n",
       "</table>\n",
       "</div>"
      ],
      "text/plain": [
       "                            Legenda                  Mega_Legenda  \\\n",
       "0            Tecido urbano contínuo  Territórios artificializados   \n",
       "1         Tecido urbano descontínuo  Territórios artificializados   \n",
       "2         Tecido urbano descontínuo  Territórios artificializados   \n",
       "3         Tecido urbano descontínuo  Territórios artificializados   \n",
       "4  Culturas temporárias de sequeiro                   Agricultura   \n",
       "\n",
       "                                            geometry  CLC2012  \n",
       "0  POLYGON ((466964.424 4331949.479, 467056.111 4...      111  \n",
       "1  POLYGON ((466609.165 4329920.686, 466698.172 4...      112  \n",
       "2  POLYGON ((469039.730 4331706.460, 469073.026 4...      112  \n",
       "3  POLYGON ((469260.812 4333243.314, 469280.171 4...      112  \n",
       "4  POLYGON ((467203.867 4329390.271, 467242.736 4...      211  "
      ]
     },
     "execution_count": 205,
     "metadata": {},
     "output_type": "execute_result"
    }
   ],
   "source": [
    "shapefile.head()"
   ]
  },
  {
   "cell_type": "markdown",
   "metadata": {},
   "source": [
    "Choose target column = Legenda or Mega_Legenda"
   ]
  },
  {
   "cell_type": "code",
   "execution_count": 206,
   "metadata": {},
   "outputs": [],
   "source": [
    "Class = 'Mega_Legenda'\n",
    "#Class = 'Legenda' "
   ]
  },
  {
   "cell_type": "code",
   "execution_count": 207,
   "metadata": {},
   "outputs": [
    {
     "name": "stdout",
     "output_type": "stream",
     "text": [
      "List of Land Cover Classes:\n"
     ]
    },
    {
     "data": {
      "text/plain": [
       "array(['Agricultura', 'Corpos de água',\n",
       "       'Espaços descobertos ou com vegetação esparsa', 'Floresta',\n",
       "       'Territórios artificializados', 'Vegetação natural'], dtype=object)"
      ]
     },
     "execution_count": 207,
     "metadata": {},
     "output_type": "execute_result"
    }
   ],
   "source": [
    "unique= np.unique(shapefile[Class])\n",
    "print('List of Land Cover Classes:')\n",
    "unique"
   ]
  },
  {
   "cell_type": "code",
   "execution_count": 208,
   "metadata": {},
   "outputs": [
    {
     "name": "stdout",
     "output_type": "stream",
     "text": [
      "List of Land Cover Classes for test:\n"
     ]
    },
    {
     "data": {
      "text/plain": [
       "array(['Agricultura', 'Corpos de água'], dtype=object)"
      ]
     },
     "execution_count": 208,
     "metadata": {},
     "output_type": "execute_result"
    }
   ],
   "source": [
    "unique= np.unique(shapefile_test[Class])\n",
    "print('List of Land Cover Classes for test:')\n",
    "unique"
   ]
  },
  {
   "cell_type": "code",
   "execution_count": 209,
   "metadata": {},
   "outputs": [],
   "source": [
    "#shapefile.geometry = shapefile.geometry.map(lambda polygon: shapely.ops.transform(lambda x, y: (y, x), polygon))"
   ]
  },
  {
   "cell_type": "code",
   "execution_count": 210,
   "metadata": {},
   "outputs": [
    {
     "data": {
      "text/html": [
       "<div>\n",
       "<style scoped>\n",
       "    .dataframe tbody tr th:only-of-type {\n",
       "        vertical-align: middle;\n",
       "    }\n",
       "\n",
       "    .dataframe tbody tr th {\n",
       "        vertical-align: top;\n",
       "    }\n",
       "\n",
       "    .dataframe thead th {\n",
       "        text-align: right;\n",
       "    }\n",
       "</style>\n",
       "<table border=\"1\" class=\"dataframe\">\n",
       "  <thead>\n",
       "    <tr style=\"text-align: right;\">\n",
       "      <th></th>\n",
       "      <th>minx</th>\n",
       "      <th>miny</th>\n",
       "      <th>maxx</th>\n",
       "      <th>maxy</th>\n",
       "    </tr>\n",
       "  </thead>\n",
       "  <tbody>\n",
       "    <tr>\n",
       "      <th>0</th>\n",
       "      <td>466693.388761</td>\n",
       "      <td>4.331197e+06</td>\n",
       "      <td>467687.138734</td>\n",
       "      <td>4.331952e+06</td>\n",
       "    </tr>\n",
       "    <tr>\n",
       "      <th>1</th>\n",
       "      <td>465996.598721</td>\n",
       "      <td>4.329296e+06</td>\n",
       "      <td>466917.843856</td>\n",
       "      <td>4.330039e+06</td>\n",
       "    </tr>\n",
       "    <tr>\n",
       "      <th>2</th>\n",
       "      <td>466894.548139</td>\n",
       "      <td>4.328722e+06</td>\n",
       "      <td>469242.378114</td>\n",
       "      <td>4.331790e+06</td>\n",
       "    </tr>\n",
       "    <tr>\n",
       "      <th>3</th>\n",
       "      <td>466964.423703</td>\n",
       "      <td>4.331532e+06</td>\n",
       "      <td>469737.277794</td>\n",
       "      <td>4.333700e+06</td>\n",
       "    </tr>\n",
       "    <tr>\n",
       "      <th>4</th>\n",
       "      <td>466568.437188</td>\n",
       "      <td>4.328411e+06</td>\n",
       "      <td>467826.714693</td>\n",
       "      <td>4.329736e+06</td>\n",
       "    </tr>\n",
       "    <tr>\n",
       "      <th>5</th>\n",
       "      <td>468752.564988</td>\n",
       "      <td>4.329424e+06</td>\n",
       "      <td>470697.015567</td>\n",
       "      <td>4.332043e+06</td>\n",
       "    </tr>\n",
       "    <tr>\n",
       "      <th>6</th>\n",
       "      <td>467908.277434</td>\n",
       "      <td>4.333156e+06</td>\n",
       "      <td>468642.157173</td>\n",
       "      <td>4.334036e+06</td>\n",
       "    </tr>\n",
       "    <tr>\n",
       "      <th>7</th>\n",
       "      <td>469946.590040</td>\n",
       "      <td>4.333078e+06</td>\n",
       "      <td>471644.251313</td>\n",
       "      <td>4.334159e+06</td>\n",
       "    </tr>\n",
       "    <tr>\n",
       "      <th>8</th>\n",
       "      <td>468840.714745</td>\n",
       "      <td>4.333654e+06</td>\n",
       "      <td>469671.264515</td>\n",
       "      <td>4.335590e+06</td>\n",
       "    </tr>\n",
       "    <tr>\n",
       "      <th>9</th>\n",
       "      <td>467350.703474</td>\n",
       "      <td>4.328203e+06</td>\n",
       "      <td>468052.143352</td>\n",
       "      <td>4.329048e+06</td>\n",
       "    </tr>\n",
       "    <tr>\n",
       "      <th>10</th>\n",
       "      <td>463267.162078</td>\n",
       "      <td>4.317901e+06</td>\n",
       "      <td>469533.727742</td>\n",
       "      <td>4.329689e+06</td>\n",
       "    </tr>\n",
       "    <tr>\n",
       "      <th>11</th>\n",
       "      <td>468524.038318</td>\n",
       "      <td>4.326780e+06</td>\n",
       "      <td>470193.392006</td>\n",
       "      <td>4.329838e+06</td>\n",
       "    </tr>\n",
       "    <tr>\n",
       "      <th>12</th>\n",
       "      <td>468012.400858</td>\n",
       "      <td>4.329418e+06</td>\n",
       "      <td>468971.638860</td>\n",
       "      <td>4.330240e+06</td>\n",
       "    </tr>\n",
       "    <tr>\n",
       "      <th>13</th>\n",
       "      <td>466008.818077</td>\n",
       "      <td>4.329371e+06</td>\n",
       "      <td>467606.508072</td>\n",
       "      <td>4.331340e+06</td>\n",
       "    </tr>\n",
       "    <tr>\n",
       "      <th>14</th>\n",
       "      <td>467269.269603</td>\n",
       "      <td>4.330197e+06</td>\n",
       "      <td>468910.063616</td>\n",
       "      <td>4.331765e+06</td>\n",
       "    </tr>\n",
       "    <tr>\n",
       "      <th>15</th>\n",
       "      <td>468894.740277</td>\n",
       "      <td>4.330232e+06</td>\n",
       "      <td>469787.383191</td>\n",
       "      <td>4.331882e+06</td>\n",
       "    </tr>\n",
       "    <tr>\n",
       "      <th>16</th>\n",
       "      <td>468634.432655</td>\n",
       "      <td>4.330579e+06</td>\n",
       "      <td>486325.259249</td>\n",
       "      <td>4.356937e+06</td>\n",
       "    </tr>\n",
       "    <tr>\n",
       "      <th>17</th>\n",
       "      <td>468044.827398</td>\n",
       "      <td>4.328258e+06</td>\n",
       "      <td>468931.634532</td>\n",
       "      <td>4.329192e+06</td>\n",
       "    </tr>\n",
       "    <tr>\n",
       "      <th>18</th>\n",
       "      <td>469597.692009</td>\n",
       "      <td>4.329029e+06</td>\n",
       "      <td>470371.910787</td>\n",
       "      <td>4.330150e+06</td>\n",
       "    </tr>\n",
       "    <tr>\n",
       "      <th>19</th>\n",
       "      <td>468439.544499</td>\n",
       "      <td>4.329743e+06</td>\n",
       "      <td>469079.903020</td>\n",
       "      <td>4.330581e+06</td>\n",
       "    </tr>\n",
       "    <tr>\n",
       "      <th>20</th>\n",
       "      <td>467974.271246</td>\n",
       "      <td>4.330341e+06</td>\n",
       "      <td>468629.919600</td>\n",
       "      <td>4.331238e+06</td>\n",
       "    </tr>\n",
       "    <tr>\n",
       "      <th>21</th>\n",
       "      <td>468370.401979</td>\n",
       "      <td>4.331426e+06</td>\n",
       "      <td>469374.417859</td>\n",
       "      <td>4.333082e+06</td>\n",
       "    </tr>\n",
       "    <tr>\n",
       "      <th>22</th>\n",
       "      <td>468479.844679</td>\n",
       "      <td>4.333078e+06</td>\n",
       "      <td>469300.202943</td>\n",
       "      <td>4.335327e+06</td>\n",
       "    </tr>\n",
       "    <tr>\n",
       "      <th>23</th>\n",
       "      <td>469283.317546</td>\n",
       "      <td>4.331305e+06</td>\n",
       "      <td>469861.870661</td>\n",
       "      <td>4.331934e+06</td>\n",
       "    </tr>\n",
       "    <tr>\n",
       "      <th>24</th>\n",
       "      <td>468155.947045</td>\n",
       "      <td>4.331409e+06</td>\n",
       "      <td>468800.522222</td>\n",
       "      <td>4.332375e+06</td>\n",
       "    </tr>\n",
       "    <tr>\n",
       "      <th>25</th>\n",
       "      <td>469221.384723</td>\n",
       "      <td>4.331348e+06</td>\n",
       "      <td>470722.607067</td>\n",
       "      <td>4.332690e+06</td>\n",
       "    </tr>\n",
       "    <tr>\n",
       "      <th>26</th>\n",
       "      <td>467578.643139</td>\n",
       "      <td>4.331591e+06</td>\n",
       "      <td>468371.630292</td>\n",
       "      <td>4.332559e+06</td>\n",
       "    </tr>\n",
       "    <tr>\n",
       "      <th>27</th>\n",
       "      <td>468187.343730</td>\n",
       "      <td>4.333806e+06</td>\n",
       "      <td>469088.339943</td>\n",
       "      <td>4.335585e+06</td>\n",
       "    </tr>\n",
       "    <tr>\n",
       "      <th>28</th>\n",
       "      <td>465211.175885</td>\n",
       "      <td>4.328061e+06</td>\n",
       "      <td>466430.275679</td>\n",
       "      <td>4.329441e+06</td>\n",
       "    </tr>\n",
       "    <tr>\n",
       "      <th>29</th>\n",
       "      <td>431145.184713</td>\n",
       "      <td>4.065596e+06</td>\n",
       "      <td>659593.163080</td>\n",
       "      <td>4.636431e+06</td>\n",
       "    </tr>\n",
       "  </tbody>\n",
       "</table>\n",
       "</div>"
      ],
      "text/plain": [
       "             minx          miny           maxx          maxy\n",
       "0   466693.388761  4.331197e+06  467687.138734  4.331952e+06\n",
       "1   465996.598721  4.329296e+06  466917.843856  4.330039e+06\n",
       "2   466894.548139  4.328722e+06  469242.378114  4.331790e+06\n",
       "3   466964.423703  4.331532e+06  469737.277794  4.333700e+06\n",
       "4   466568.437188  4.328411e+06  467826.714693  4.329736e+06\n",
       "5   468752.564988  4.329424e+06  470697.015567  4.332043e+06\n",
       "6   467908.277434  4.333156e+06  468642.157173  4.334036e+06\n",
       "7   469946.590040  4.333078e+06  471644.251313  4.334159e+06\n",
       "8   468840.714745  4.333654e+06  469671.264515  4.335590e+06\n",
       "9   467350.703474  4.328203e+06  468052.143352  4.329048e+06\n",
       "10  463267.162078  4.317901e+06  469533.727742  4.329689e+06\n",
       "11  468524.038318  4.326780e+06  470193.392006  4.329838e+06\n",
       "12  468012.400858  4.329418e+06  468971.638860  4.330240e+06\n",
       "13  466008.818077  4.329371e+06  467606.508072  4.331340e+06\n",
       "14  467269.269603  4.330197e+06  468910.063616  4.331765e+06\n",
       "15  468894.740277  4.330232e+06  469787.383191  4.331882e+06\n",
       "16  468634.432655  4.330579e+06  486325.259249  4.356937e+06\n",
       "17  468044.827398  4.328258e+06  468931.634532  4.329192e+06\n",
       "18  469597.692009  4.329029e+06  470371.910787  4.330150e+06\n",
       "19  468439.544499  4.329743e+06  469079.903020  4.330581e+06\n",
       "20  467974.271246  4.330341e+06  468629.919600  4.331238e+06\n",
       "21  468370.401979  4.331426e+06  469374.417859  4.333082e+06\n",
       "22  468479.844679  4.333078e+06  469300.202943  4.335327e+06\n",
       "23  469283.317546  4.331305e+06  469861.870661  4.331934e+06\n",
       "24  468155.947045  4.331409e+06  468800.522222  4.332375e+06\n",
       "25  469221.384723  4.331348e+06  470722.607067  4.332690e+06\n",
       "26  467578.643139  4.331591e+06  468371.630292  4.332559e+06\n",
       "27  468187.343730  4.333806e+06  469088.339943  4.335585e+06\n",
       "28  465211.175885  4.328061e+06  466430.275679  4.329441e+06\n",
       "29  431145.184713  4.065596e+06  659593.163080  4.636431e+06"
      ]
     },
     "execution_count": 210,
     "metadata": {},
     "output_type": "execute_result"
    }
   ],
   "source": [
    "shapefile.bounds"
   ]
  },
  {
   "cell_type": "code",
   "execution_count": 211,
   "metadata": {},
   "outputs": [
    {
     "name": "stdout",
     "output_type": "stream",
     "text": [
      "raster bounds in current crs :\n",
      " ((464960.0, 4334040.0), (469960.0, 4334040.0), (469960.0, 4329040.0), (464960.0, 4329040.0))\n"
     ]
    }
   ],
   "source": [
    "print('raster bounds in current crs :\\n', raster_gps_points)"
   ]
  },
  {
   "cell_type": "code",
   "execution_count": 212,
   "metadata": {},
   "outputs": [
    {
     "name": "stdout",
     "output_type": "stream",
     "text": [
      "<class 'shapely.geometry.polygon.Polygon'>\n",
      "POLYGON ((466964.4237027746 4331949.479068073, 467056.111145639 4331931.712223588, 467149.0952492154 4331951.234501887, 467195.676337795 4331951.679405843, 467233.3416034218 4331910.11235441, 467266.3709926478 4331866.171847544, 467332.0516111786 4331817.884539855, 467369.6945313095 4331778.64652798, 467372.3127682726 4331748.391088762, 467391.6125745543 4331678.697532657, 467454.6972043611 4331658.336574916, 467550.6555184731 4331610.338493205, 467611.8873344366 4331536.322760579, 467595.4293370568 4331424.44890151, 467638.0257973998 4331385.875851696, 467670.3637442201 4331322.715065499, 467687.1387342545 4331227.671187854, 467672.6153339227 4331197.917508592, 467650.105950683 4331196.678844143, 467572.913497621 4331230.880677446, 467456.3941267077 4331236.755756233, 467405.0214429033 4331250.24069206, 467309.4857897328 4331253.986883694, 467197.7358053764 4331248.261140807, 467150.9991210354 4331264.119713548, 467120.4323009839 4331294.108234264, 467052.6228797645 4331321.411812863, 466987.4094343916 4331320.789023704, 466967.3508684837 4331290.069661702, 466952.9065789034 4331296.32751901, 466922.060721425 4331306.281973261, 466878.377490459 4331318.674987479, 466850.117319837 4331326.092774488, 466817.6371282637 4331331.393166715, 466816.5865481617 4331327.163780027, 466798.6228633797 4331332.96173092, 466738.0230794031 4331337.041440571, 466693.3887614207 4331340.136671946, 466695.4174970426 4331347.502681723, 466729.8309906102 4331472.445875268, 466754.6842511581 4331562.679373566, 466793.6832239885 4331675.278798358, 466884.8615193169 4331780.349090354, 466955.4990407063 4331937.338570477, 466964.4237027746 4331949.479068073))\n",
      "<class 'list'>\n",
      "[{'type': 'Polygon', 'coordinates': (((466964.42370277457, 4331949.4790680725), (467056.111145639, 4331931.712223588), (467149.0952492154, 4331951.234501887), (467195.676337795, 4331951.679405843), (467233.3416034218, 4331910.11235441), (467266.37099264783, 4331866.171847544), (467332.0516111786, 4331817.884539855), (467369.69453130953, 4331778.64652798), (467372.3127682726, 4331748.391088762), (467391.61257455434, 4331678.697532657), (467454.69720436115, 4331658.336574916), (467550.65551847307, 4331610.338493205), (467611.88733443664, 4331536.322760579), (467595.42933705676, 4331424.44890151), (467638.0257973998, 4331385.875851696), (467670.36374422006, 4331322.715065499), (467687.13873425446, 4331227.671187854), (467672.6153339227, 4331197.917508592), (467650.105950683, 4331196.678844143), (467572.91349762096, 4331230.880677446), (467456.39412670775, 4331236.755756233), (467405.02144290326, 4331250.24069206), (467309.48578973283, 4331253.986883694), (467197.73580537643, 4331248.261140807), (467150.99912103545, 4331264.119713548), (467120.4323009839, 4331294.108234264), (467052.6228797645, 4331321.411812863), (466987.4094343916, 4331320.789023704), (466967.35086848366, 4331290.069661702), (466952.90657890344, 4331296.32751901), (466922.060721425, 4331306.281973261), (466878.37749045895, 4331318.674987479), (466850.11731983704, 4331326.092774488), (466817.63712826365, 4331331.393166715), (466816.5865481617, 4331327.163780027), (466798.62286337966, 4331332.96173092), (466738.0230794031, 4331337.041440571), (466693.38876142073, 4331340.136671946), (466695.4174970426, 4331347.502681723), (466729.83099061024, 4331472.445875268), (466754.68425115815, 4331562.679373566), (466793.68322398845, 4331675.278798358), (466884.86151931685, 4331780.349090354), (466955.49904070626, 4331937.338570477), (466964.42370277457, 4331949.4790680725)),)}]\n"
     ]
    }
   ],
   "source": [
    "# this generates a list of shapely geometries\n",
    "geoms = shapefile.geometry.values \n",
    "geoms_test = shapefile_test.geometry.values \n",
    "\n",
    "# let's grab a single shapely geometry to check\n",
    "geometry = geoms[0] \n",
    "print(type(geometry))\n",
    "print(geometry)\n",
    "\n",
    "# transform to GeoJSON format\n",
    "from shapely.geometry import mapping\n",
    "feature = [mapping(geometry)] # can also do this using polygon.__geo_interface__\n",
    "print(type(feature))\n",
    "print(feature)"
   ]
  },
  {
   "cell_type": "code",
   "execution_count": 213,
   "metadata": {},
   "outputs": [
    {
     "data": {
      "text/plain": [
       "(4, 77, 100)"
      ]
     },
     "execution_count": 213,
     "metadata": {},
     "output_type": "execute_result"
    }
   ],
   "source": [
    "out_image, out_transform = rasterio.mask.mask(full_dataset, feature,crop=True)\n",
    "out_image.shape"
   ]
  },
  {
   "cell_type": "code",
   "execution_count": 214,
   "metadata": {},
   "outputs": [
    {
     "data": {
      "text/plain": [
       "Affine(10.0, 0.0, 466690.0,\n",
       "       0.0, -10.0, 4331960.0)"
      ]
     },
     "execution_count": 214,
     "metadata": {},
     "output_type": "execute_result"
    }
   ],
   "source": [
    "out_transform"
   ]
  },
  {
   "cell_type": "code",
   "execution_count": 218,
   "metadata": {},
   "outputs": [],
   "source": [
    "def setup_features_and_target(src,geoms,shapefile) : \n",
    "    X = np.array([], dtype=np.int8).reshape(0,4) # pixels for training\n",
    "    y = np.array([], dtype=np.string_) # labels for training\n",
    "    # extract the raster values within the polygon \n",
    "    band_count = src.count\n",
    "    for index, geom in enumerate(geoms):\n",
    "        feature = [mapping(geom)]\n",
    "\n",
    "        # the mask function returns an array of the raster pixels within this feature\n",
    "        out_image, out_transform = rasterio.mask.mask(src, feature,crop=True)\n",
    "        # eliminate all the pixels with 0 values for all 8 bands - AKA not actually part of the shapefile\n",
    "        out_image_trimmed = out_image[:,~np.all(out_image == 0, axis=0)]\n",
    "        # eliminate all the pixels with 255 values for all 8 bands - AKA not actually part of the shapefile\n",
    "        out_image_trimmed = out_image_trimmed[:,~np.all(out_image_trimmed == 255, axis=0)]\n",
    "        # reshape the array to [pixel count, bands]\n",
    "        out_image_reshaped = out_image_trimmed.reshape(-1, band_count)\n",
    "        # append the labels to the y array\n",
    "        y = np.append(y,[shapefile[Class][index]] * out_image_reshaped.shape[0]) \n",
    "        # stack the pizels onto the pixel array\n",
    "        X = np.vstack((X,out_image_reshaped))\n",
    "    return X,y"
   ]
  },
  {
   "cell_type": "code",
   "execution_count": 219,
   "metadata": {},
   "outputs": [],
   "source": [
    "src = full_dataset\n",
    "X,y = setup_features_and_target(src,geoms,shapefile)\n",
    "X_test,y_test = setup_features_and_target(src,geoms_test,shapefile_test)"
   ]
  },
  {
   "cell_type": "code",
   "execution_count": 220,
   "metadata": {},
   "outputs": [
    {
     "name": "stdout",
     "output_type": "stream",
     "text": [
      "The training data include 6 classes: ['Agricultura' 'Corpos de água'\n",
      " 'Espaços descobertos ou com vegetação esparsa' 'Floresta'\n",
      " 'Territórios artificializados' 'Vegetação natural']\n",
      "\n",
      "The training data include 2 classes: ['Agricultura' 'Corpos de água']\n",
      "\n",
      "Our X matrix is sized: (35129396, 4)\n",
      "Our y array is sized: (35129396,)\n",
      "Our X_test matrix is sized: (33224143, 4)\n",
      "Our y_test array is sized: (33224143,)\n"
     ]
    }
   ],
   "source": [
    "# What are our classification labels?\n",
    "labels = np.unique(shapefile[Class])\n",
    "print('The training data include {n} classes: {classes}\\n'.format(n=labels.size, \n",
    "                                                                classes=labels))\n",
    "labels_test = np.unique(shapefile_test[Class])\n",
    "print('The testing data include {n} classes: {classes}\\n'.format(n=labels_test.size, \n",
    "                                                                classes=labels_test))\n",
    "\n",
    "# We will need a \"X\" matrix containing our features, and a \"y\" array containing our labels\n",
    "print('Our X matrix is sized: {sz}'.format(sz=X.shape))\n",
    "print('Our y array is sized: {sz}'.format(sz=y.shape))\n",
    "\n",
    "print('Our X_test matrix is sized: {sz}'.format(sz=X_test.shape))\n",
    "print('Our y_test array is sized: {sz}'.format(sz=y_test.shape))\n"
   ]
  },
  {
   "cell_type": "code",
   "execution_count": 221,
   "metadata": {},
   "outputs": [
    {
     "data": {
      "text/plain": [
       "Text(0.5, 1.0, 'Band Intensities Higher Ref Subset')"
      ]
     },
     "execution_count": 221,
     "metadata": {},
     "output_type": "execute_result"
    },
    {
     "data": {
      "image/png": "[encoded data removed]",
      "text/plain": [
       "<Figure size 1440x576 with 3 Axes>"
      ]
     },
     "metadata": {
      "needs_background": "light"
     },
     "output_type": "display_data"
    }
   ],
   "source": [
    "fig, ax = plt.subplots(1,3, figsize=[20,8])\n",
    "\n",
    "# numbers 1-4\n",
    "band_count = np.arange(1,5)\n",
    "\n",
    "classes = np.unique(y)\n",
    "for class_type in classes:\n",
    "    band_intensity = np.mean(X[y==class_type, :], axis=0)\n",
    "    ax[0].plot(band_count, band_intensity, label=class_type)\n",
    "    ax[1].plot(band_count, band_intensity, label=class_type)\n",
    "    ax[2].plot(band_count, band_intensity, label=class_type)\n",
    "# plot them as lines\n",
    "\n",
    "# Add some axis labels\n",
    "ax[0].set_xlabel('Band #')\n",
    "ax[0].set_ylabel('Reflectance Value')\n",
    "ax[1].set_ylabel('Reflectance Value')\n",
    "ax[1].set_xlabel('Band #')\n",
    "ax[2].set_ylabel('Reflectance Value')\n",
    "ax[2].set_xlabel('Band #')\n",
    "#ax[0].set_ylim(32,38)\n",
    "ax[1].set_ylim(32,38)\n",
    "ax[2].set_ylim(70,140)\n",
    "#ax.set\n",
    "ax[1].legend(loc=\"upper right\")\n",
    "# Add a title\n",
    "ax[0].set_title('Band Intensities Full Overview')\n",
    "ax[1].set_title('Band Intensities Lower Ref Subset')\n",
    "ax[2].set_title('Band Intensities Higher Ref Subset')"
   ]
  },
  {
   "cell_type": "code",
   "execution_count": 222,
   "metadata": {},
   "outputs": [],
   "source": [
    "def str_class_to_int(class_array):\n",
    "    class_array[class_array == 'Territórios artificializados'] = 0\n",
    "    class_array[class_array == 'Agricultura'] = 1\n",
    "    class_array[class_array == 'Floresta'] = 2\n",
    "    class_array[class_array == 'Vegetação natural'] = 3\n",
    "    class_array[class_array == 'Espaços descobertos ou com vegetação esparsa'] = 4\n",
    "    class_array[class_array == 'Zonas húmidas'] = 5\n",
    "    class_array[class_array == 'Corpos de água'] = 6\n",
    "    return(class_array.astype(int))\n",
    "def str_class_to_int_v2(class_array,class_test):\n",
    "    uniques = np.unique(class_array)\n",
    "    i=0\n",
    "    for class_name in uniques :\n",
    "        class_array[class_array == class_name ] = i\n",
    "        class_test[class_test == class_name ] = i\n",
    "        i+=1\n",
    "    return(class_array.astype(int) , class_test.astype(int) ) "
   ]
  },
  {
   "cell_type": "code",
   "execution_count": 223,
   "metadata": {},
   "outputs": [
    {
     "name": "stdout",
     "output_type": "stream",
     "text": [
      "['Agricultura' 'Corpos de água'\n",
      " 'Espaços descobertos ou com vegetação esparsa' 'Floresta'\n",
      " 'Territórios artificializados' 'Vegetação natural']\n",
      "['Agricultura' 'Corpos de água']\n",
      "[0 1 2 3 4 6]\n",
      "[1 6]\n"
     ]
    }
   ],
   "source": [
    "print(np.unique(y))\n",
    "print(np.unique(y_test))\n",
    "y = str_class_to_int(y)\n",
    "y_test = str_class_to_int(y_test)\n",
    "print(np.unique(y))\n",
    "print(np.unique(y_test))\n"
   ]
  },
  {
   "cell_type": "markdown",
   "metadata": {},
   "source": [
    "# Supervised Classification Algorithm"
   ]
  },
  {
   "cell_type": "code",
   "execution_count": null,
   "metadata": {},
   "outputs": [],
   "source": [
    "from sklearn.svm import LinearSVC\n",
    "from sklearn.gaussian_process import GaussianProcessClassifier\n",
    "from sklearn.naive_bayes import GaussianNB\n",
    "from sklearn.neighbors import KNeighborsClassifier\n",
    "#model = LinearSVC(C=1,verbose=1)\n",
    "model = KNeighborsClassifier()\n",
    "model.fit(X, y)\n",
    "score = model.score(X_test, y_test)\n",
    "score"
   ]
  },
  {
   "cell_type": "code",
   "execution_count": null,
   "metadata": {},
   "outputs": [],
   "source": [
    "with rasterio.open(img_fp) as src:\n",
    "    # may need to reduce this image size if your kernel crashes, takes a lot of memory\n",
    "    img = src.read()[:, xmin_test : xmax_test ,  ymin_test : ymax_test ]\n",
    "\n",
    "# Take our full image and reshape into long 2d array (nrow * ncol, nband) for classification\n",
    "print(img.shape)\n",
    "reshaped_img = reshape_as_image(img)\n",
    "print(reshaped_img.shape)"
   ]
  },
  {
   "cell_type": "code",
   "execution_count": null,
   "metadata": {},
   "outputs": [],
   "source": [
    "class_prediction = model.predict(reshaped_img.reshape(-1, 4))\n",
    "before = class_prediction.shape\n",
    "# Reshape our classification map back into a 2D matrix so we can visualize it\n",
    "class_prediction = class_prediction.reshape(reshaped_img[:, :, 0].shape)\n",
    "class_prediction.shape"
   ]
  },
  {
   "cell_type": "code",
   "execution_count": null,
   "metadata": {},
   "outputs": [],
   "source": [
    "\"\"\"\n",
    "reshaped_img.reshape(-1, 4).shape\n",
    "real_img = y_test[:250000] #fixme\n",
    "print(before)\n",
    "print(real_img.shape)\n",
    "print(y_test.shape)\n",
    "# Reshape our classification map back into a 2D matrix so we can visualize it\n",
    "real_class = real_img.reshape(reshaped_img[:, :, 0].shape) #fixme\n",
    "real_class.shape\n",
    "\"\"\""
   ]
  },
  {
   "cell_type": "code",
   "execution_count": null,
   "metadata": {},
   "outputs": [],
   "source": [
    "real_class = real_class.astype(int)\n",
    "print(real_class)\n",
    "class_prediction = class_prediction.astype(int)\n",
    "class_prediction"
   ]
  },
  {
   "cell_type": "markdown",
   "metadata": {},
   "source": [
    "# Visualizing results "
   ]
  },
  {
   "cell_type": "code",
   "execution_count": null,
   "metadata": {},
   "outputs": [],
   "source": [
    "    \n",
    "# find the highest pixel value in the prediction image\n",
    "n = int(np.max(class_prediction))\n",
    "\n",
    "# next setup a colormap for our map\n",
    "colors = dict((\n",
    "    (0, (60, 60, 60, 255)),     # Grey - Territórios artificializados\n",
    "    (1, (20,230,20, 255)),      # Light Green - Agricultura\n",
    "    (2, (5, 80, 5, 255)),       # Dark Green - Floresta\n",
    "    (3, (170, 200, 20, 255)),   # Yellow - Vegetação natural\n",
    "    (4, (50, 20, 0, 255)),      # Brown - Espaços descobertos ou com vegetação esparsa\n",
    "    (5, (0, 250, 250, 255)),    # Light Blue - Zonas húmidas\n",
    "    (6, (0, 0, 200, 255)),      # Dark Blue - Corpos de água\n",
    "))\n",
    "\n",
    "# Put 0 - 255 as float 0 - 1\n",
    "for k in colors:\n",
    "    v = colors[k]\n",
    "    _v = [_v / 255.0 for _v in v]\n",
    "    colors[k] = _v\n",
    "    \n",
    "index_colors = [colors[key] if key in colors else \n",
    "                (255, 255, 255, 0) for key in range(0, n+1)]\n",
    "\n",
    "cmap = plt.matplotlib.colors.ListedColormap(index_colors, 'Classification', n+1)"
   ]
  },
  {
   "cell_type": "code",
   "execution_count": null,
   "metadata": {},
   "outputs": [],
   "source": [
    "def discrete_matshow(data):\n",
    "    #get discrete colormap\n",
    "    cmap = plt.get_cmap('RdBu', np.max(data)-np.min(data)+1)\n",
    "    # set limits .5 outside true range\n",
    "    mat = plt.matshow(data,cmap=cmap,vmin = np.min(data)-.5, vmax = np.max(data)+.5)\n",
    "    #tell the colorbar to tick at integers\n",
    "    cax = plt.colorbar(mat, ticks=np.arange(np.min(data),np.max(data)+1))"
   ]
  },
  {
   "cell_type": "code",
   "execution_count": null,
   "metadata": {},
   "outputs": [],
   "source": [
    "\n",
    "fig, axs = plt.subplots(1,2,figsize=(20,20))\n",
    "\n",
    "img_stretched = color_stretch(reshaped_img, [2, 1, 0])\n",
    "axs[0].imshow(img_stretched)\n",
    "\n",
    "prediction_plot= axs[1].imshow(class_prediction, cmap=cmap, interpolation='none')\n",
    "fig.colorbar(prediction_plot, ax=axs[1],ticks=range(0,6),fraction=0.046, pad=0.04)\n",
    "\n",
    "#real_plot = axs[2].imshow(real_class, cmap=cmap, interpolation='none')\n",
    "#fig.colorbar(real_plot, ax=axs[2],ticks=range(0,6),fraction=0.046, pad=0.04)\n",
    "\n",
    "fig.show()"
   ]
  },
  {
   "cell_type": "code",
   "execution_count": null,
   "metadata": {},
   "outputs": [],
   "source": [
    "fig, axs = plt.subplots(1,2,figsize=(15,15))\n",
    "\n",
    "img_stretched = color_stretch(reshaped_img, [2, 1, 0])\n",
    "\n",
    "axs[0].imshow(img_stretched[0:100, 0:100])\n",
    "\n",
    "prediction_plot = axs[1].imshow(class_prediction[0:100, 0:100], cmap=cmap, interpolation='none')\n",
    "fig.colorbar(prediction_plot, ax=axs[1],ticks=range(0,4),fraction=0.046, pad=0.04)\n",
    "\n",
    "fig.show()"
   ]
  },
  {
   "cell_type": "code",
   "execution_count": null,
   "metadata": {},
   "outputs": [],
   "source": [
    "fig, axs = plt.subplots(2,2,figsize=(15,7))\n",
    "\n",
    "reshaped_img =reshape_as_image( img )\n",
    "img_stretched = color_stretch(reshaped_img, [2, 1, 0])\n",
    "axs[0,0].set_title(\"True Color\")\n",
    "axs[0,0].imshow(img_stretched)\n",
    "\n",
    "axs[0,1].set_title(\"Class Prediction\")\n",
    "predictions_plot = axs[0,1].imshow(class_prediction, cmap=cmap, interpolation='none')\n",
    "fig.colorbar(predictions_plot, ax=axs[0,1],ticks=range(0,6))\n",
    "\n",
    "nwdi_plot = axs[1,0].imshow(ndwi, cmap=\"RdYlBu\")\n",
    "axs[1,0].set_title(\"NDWI\")\n",
    "fig.colorbar(nwdi_plot, ax=axs[1,0])\n",
    "\n",
    "ndvi_plot = axs[1,1].imshow(ndvi, cmap=\"RdYlGn\")\n",
    "axs[1,1].set_title(\"NDVI\")\n",
    "fig.colorbar(ndvi_plot, ax=axs[1,1])\n",
    "\n",
    "plt.show()"
   ]
  },
  {
   "cell_type": "code",
   "execution_count": null,
   "metadata": {},
   "outputs": [],
   "source": [
    "alert() # audio alert"
   ]
  }
 ],
 "metadata": {
  "kernelspec": {
   "display_name": "geo_py37_kernel",
   "language": "python",
   "name": "geo_py37_kernel"
  },
  "language_info": {
   "codemirror_mode": {
    "name": "ipython",
    "version": 3
   },
   "file_extension": ".py",
   "mimetype": "text/x-python",
   "name": "python",
   "nbconvert_exporter": "python",
   "pygments_lexer": "ipython3",
   "version": "3.7.3"
  }
 },
 "nbformat": 4,
 "nbformat_minor": 2
}
